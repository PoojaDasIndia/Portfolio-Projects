{
    "metadata": {
        "kernelspec": {
            "name": "SQL",
            "display_name": "SQL",
            "language": "sql"
        },
        "language_info": {
            "name": "sql",
            "version": ""
        }
    },
    "nbformat_minor": 2,
    "nbformat": 4,
    "cells": [
        {
            "cell_type": "markdown",
            "source": [
                "# **/\\*\\*\\*\\*\\*\\*\\*\\*\\*\\*\\*\\*\\*\\*\\*\\*\\*\\*\\*\\*\\*\\*\\*\\*\\*\\*\\*\\*\\*\\*\\*\\*\\*BASIC SQL\\*\\*\\*\\*\\*\\*\\*\\*\\*\\*\\*\\*\\*\\*\\*\\*\\*\\*\\*\\*\\*\\*\\*\\*\\*\\*\\*\\*\\*\\*\\*\\*\\*\\*\\*\\*\\*\\*\\*\\*\\*/**"
            ],
            "metadata": {
                "azdata_cell_guid": "e7f9057e-9d4e-4fbe-9dca-a0eb7c47130b"
            }
        },
        {
            "cell_type": "markdown",
            "source": [
                "## **SELECT** Statement **(\\* , Top , Distinct,  Count, As   ,Max,  Min,   Avg)**"
            ],
            "metadata": {
                "azdata_cell_guid": "24614503-05de-4bf0-8389-93ac12c3fbc8"
            }
        },
        {
            "cell_type": "code",
            "source": [
                "SELECT * \r\n",
                "FROM EmployeeDemographics"
            ],
            "metadata": {
                "azdata_cell_guid": "732fdee9-1381-4da9-8196-e1beb9e049b3"
            },
            "outputs": [
                {
                    "output_type": "display_data",
                    "data": {
                        "text/html": "(9 rows affected)"
                    },
                    "metadata": {}
                },
                {
                    "output_type": "display_data",
                    "data": {
                        "text/html": "Total execution time: 00:00:00.148"
                    },
                    "metadata": {}
                },
                {
                    "output_type": "execute_result",
                    "execution_count": 1,
                    "data": {
                        "application/vnd.dataresource+json": {
                            "schema": {
                                "fields": [
                                    {
                                        "name": "EmployeeID"
                                    },
                                    {
                                        "name": "FirstName"
                                    },
                                    {
                                        "name": "LastName"
                                    },
                                    {
                                        "name": "Age"
                                    },
                                    {
                                        "name": "Gender"
                                    }
                                ]
                            },
                            "data": [
                                {
                                    "0": "1001",
                                    "1": "Jim",
                                    "2": "Harin",
                                    "3": "32",
                                    "4": "Male"
                                },
                                {
                                    "0": "1002",
                                    "1": "John",
                                    "2": "Mark",
                                    "3": "35",
                                    "4": "Male"
                                },
                                {
                                    "0": "1003",
                                    "1": "Riya",
                                    "2": "Ray",
                                    "3": "28",
                                    "4": "Female"
                                },
                                {
                                    "0": "1004",
                                    "1": "Harry",
                                    "2": "pal",
                                    "3": "36",
                                    "4": "Male"
                                },
                                {
                                    "0": "1005",
                                    "1": "Ram",
                                    "2": "Singh",
                                    "3": "38",
                                    "4": "Male"
                                },
                                {
                                    "0": "1006",
                                    "1": "Harry",
                                    "2": "pal",
                                    "3": "36",
                                    "4": "Male"
                                },
                                {
                                    "0": "1007",
                                    "1": "Meredith",
                                    "2": "Palmer",
                                    "3": "32",
                                    "4": "Female"
                                },
                                {
                                    "0": "1008",
                                    "1": "Stanley",
                                    "2": "Hudson",
                                    "3": "38",
                                    "4": "Male"
                                },
                                {
                                    "0": "1009",
                                    "1": "Kevin",
                                    "2": "Malone",
                                    "3": "31",
                                    "4": "Male"
                                }
                            ]
                        },
                        "text/html": "<table><tr><th>EmployeeID</th><th>FirstName</th><th>LastName</th><th>Age</th><th>Gender</th></tr><tr><td>1001</td><td>Jim</td><td>Harin</td><td>32</td><td>Male</td></tr><tr><td>1002</td><td>John</td><td>Mark</td><td>35</td><td>Male</td></tr><tr><td>1003</td><td>Riya</td><td>Ray</td><td>28</td><td>Female</td></tr><tr><td>1004</td><td>Harry</td><td>pal</td><td>36</td><td>Male</td></tr><tr><td>1005</td><td>Ram</td><td>Singh</td><td>38</td><td>Male</td></tr><tr><td>1006</td><td>Harry</td><td>pal</td><td>36</td><td>Male</td></tr><tr><td>1007</td><td>Meredith</td><td>Palmer</td><td>32</td><td>Female</td></tr><tr><td>1008</td><td>Stanley</td><td>Hudson</td><td>38</td><td>Male</td></tr><tr><td>1009</td><td>Kevin</td><td>Malone</td><td>31</td><td>Male</td></tr></table>"
                    },
                    "metadata": {}
                }
            ],
            "execution_count": 1
        },
        {
            "cell_type": "markdown",
            "source": [
                "If Need to select only **FirstName and Age**"
            ],
            "metadata": {
                "azdata_cell_guid": "854857d2-ef5b-4cf7-9198-f3833a28234f"
            }
        },
        {
            "cell_type": "markdown",
            "source": [
                "## **\\*** is used to select all row and all column"
            ],
            "metadata": {
                "azdata_cell_guid": "ceb25062-e22b-4c64-89ef-412a8896e1d9"
            }
        },
        {
            "cell_type": "code",
            "source": [
                "SELECT FirstName,Age \r\n",
                "FROM EmployeeDemographics"
            ],
            "metadata": {
                "azdata_cell_guid": "fd8de3d9-1ad7-49d2-a147-9e7bbb720e75"
            },
            "outputs": [
                {
                    "output_type": "display_data",
                    "data": {
                        "text/html": "(9 rows affected)"
                    },
                    "metadata": {}
                },
                {
                    "output_type": "display_data",
                    "data": {
                        "text/html": "Total execution time: 00:00:00.178"
                    },
                    "metadata": {}
                },
                {
                    "output_type": "execute_result",
                    "execution_count": 2,
                    "data": {
                        "application/vnd.dataresource+json": {
                            "schema": {
                                "fields": [
                                    {
                                        "name": "FirstName"
                                    },
                                    {
                                        "name": "Age"
                                    }
                                ]
                            },
                            "data": [
                                {
                                    "0": "Jim",
                                    "1": "32"
                                },
                                {
                                    "0": "John",
                                    "1": "35"
                                },
                                {
                                    "0": "Riya",
                                    "1": "28"
                                },
                                {
                                    "0": "Harry",
                                    "1": "36"
                                },
                                {
                                    "0": "Ram",
                                    "1": "38"
                                },
                                {
                                    "0": "Harry",
                                    "1": "36"
                                },
                                {
                                    "0": "Meredith",
                                    "1": "32"
                                },
                                {
                                    "0": "Stanley",
                                    "1": "38"
                                },
                                {
                                    "0": "Kevin",
                                    "1": "31"
                                }
                            ]
                        },
                        "text/html": "<table><tr><th>FirstName</th><th>Age</th></tr><tr><td>Jim</td><td>32</td></tr><tr><td>John</td><td>35</td></tr><tr><td>Riya</td><td>28</td></tr><tr><td>Harry</td><td>36</td></tr><tr><td>Ram</td><td>38</td></tr><tr><td>Harry</td><td>36</td></tr><tr><td>Meredith</td><td>32</td></tr><tr><td>Stanley</td><td>38</td></tr><tr><td>Kevin</td><td>31</td></tr></table>"
                    },
                    "metadata": {}
                }
            ],
            "execution_count": 2
        },
        {
            "cell_type": "markdown",
            "source": [
                "## If need to Select TOP 5 records of all (\\*) employee"
            ],
            "metadata": {
                "azdata_cell_guid": "da748087-6557-4b9e-a124-191ce4f15336"
            }
        },
        {
            "cell_type": "code",
            "source": [
                "SELECT top 5 *\r\n",
                "FROM EmployeeDemographics"
            ],
            "metadata": {
                "azdata_cell_guid": "8237e75f-a087-4edb-87a7-a2a80e14f842"
            },
            "outputs": [
                {
                    "output_type": "display_data",
                    "data": {
                        "text/html": "(5 rows affected)"
                    },
                    "metadata": {}
                },
                {
                    "output_type": "display_data",
                    "data": {
                        "text/html": "Total execution time: 00:00:00.209"
                    },
                    "metadata": {}
                },
                {
                    "output_type": "execute_result",
                    "execution_count": 3,
                    "data": {
                        "application/vnd.dataresource+json": {
                            "schema": {
                                "fields": [
                                    {
                                        "name": "EmployeeID"
                                    },
                                    {
                                        "name": "FirstName"
                                    },
                                    {
                                        "name": "LastName"
                                    },
                                    {
                                        "name": "Age"
                                    },
                                    {
                                        "name": "Gender"
                                    }
                                ]
                            },
                            "data": [
                                {
                                    "0": "1001",
                                    "1": "Jim",
                                    "2": "Harin",
                                    "3": "32",
                                    "4": "Male"
                                },
                                {
                                    "0": "1002",
                                    "1": "John",
                                    "2": "Mark",
                                    "3": "35",
                                    "4": "Male"
                                },
                                {
                                    "0": "1003",
                                    "1": "Riya",
                                    "2": "Ray",
                                    "3": "28",
                                    "4": "Female"
                                },
                                {
                                    "0": "1004",
                                    "1": "Harry",
                                    "2": "pal",
                                    "3": "36",
                                    "4": "Male"
                                },
                                {
                                    "0": "1005",
                                    "1": "Ram",
                                    "2": "Singh",
                                    "3": "38",
                                    "4": "Male"
                                }
                            ]
                        },
                        "text/html": "<table><tr><th>EmployeeID</th><th>FirstName</th><th>LastName</th><th>Age</th><th>Gender</th></tr><tr><td>1001</td><td>Jim</td><td>Harin</td><td>32</td><td>Male</td></tr><tr><td>1002</td><td>John</td><td>Mark</td><td>35</td><td>Male</td></tr><tr><td>1003</td><td>Riya</td><td>Ray</td><td>28</td><td>Female</td></tr><tr><td>1004</td><td>Harry</td><td>pal</td><td>36</td><td>Male</td></tr><tr><td>1005</td><td>Ram</td><td>Singh</td><td>38</td><td>Male</td></tr></table>"
                    },
                    "metadata": {}
                }
            ],
            "execution_count": 3
        },
        {
            "cell_type": "markdown",
            "source": [
                "If need to Select TOP 5 records of FirstName and LastName of employee"
            ],
            "metadata": {
                "azdata_cell_guid": "ee3c1024-29ee-4b35-a17b-977676707933"
            }
        },
        {
            "cell_type": "code",
            "source": [
                "SELECT top 5 FirstName,LastName\r\n",
                "FROM EmployeeDemographics"
            ],
            "metadata": {
                "azdata_cell_guid": "dee238fd-5061-4c0c-9ab9-f68b5e0e643d"
            },
            "outputs": [
                {
                    "output_type": "display_data",
                    "data": {
                        "text/html": "(5 rows affected)"
                    },
                    "metadata": {}
                },
                {
                    "output_type": "display_data",
                    "data": {
                        "text/html": "Total execution time: 00:00:00.060"
                    },
                    "metadata": {}
                },
                {
                    "output_type": "execute_result",
                    "execution_count": 3,
                    "data": {
                        "application/vnd.dataresource+json": {
                            "schema": {
                                "fields": [
                                    {
                                        "name": "FirstName"
                                    },
                                    {
                                        "name": "LastName"
                                    }
                                ]
                            },
                            "data": [
                                {
                                    "0": "Jim",
                                    "1": "Harin"
                                },
                                {
                                    "0": "John",
                                    "1": "Mark"
                                },
                                {
                                    "0": "Riya",
                                    "1": "Ray"
                                },
                                {
                                    "0": "Harry",
                                    "1": "pal"
                                },
                                {
                                    "0": "Ram",
                                    "1": "Singh"
                                }
                            ]
                        },
                        "text/html": "<table><tr><th>FirstName</th><th>LastName</th></tr><tr><td>Jim</td><td>Harin</td></tr><tr><td>John</td><td>Mark</td></tr><tr><td>Riya</td><td>Ray</td></tr><tr><td>Harry</td><td>pal</td></tr><tr><td>Ram</td><td>Singh</td></tr></table>"
                    },
                    "metadata": {}
                }
            ],
            "execution_count": 3
        },
        {
            "cell_type": "markdown",
            "source": [
                "### **DISTINCT()** find **all the unique values** like in EmployeeID all values are uniques and in in Gender  only Male and Female Unique"
            ],
            "metadata": {
                "azdata_cell_guid": "954b11f0-9bba-412c-b046-834c8438b3d2"
            }
        },
        {
            "cell_type": "code",
            "source": [
                "SELECT DISTINCT(EmployeeID)\r\n",
                "FROM EmployeeDemographics"
            ],
            "metadata": {
                "azdata_cell_guid": "147d6742-fb90-4b7b-8dd6-c549885c54e5"
            },
            "outputs": [
                {
                    "output_type": "display_data",
                    "data": {
                        "text/html": "(9 rows affected)"
                    },
                    "metadata": {}
                },
                {
                    "output_type": "display_data",
                    "data": {
                        "text/html": "Total execution time: 00:00:00.786"
                    },
                    "metadata": {}
                },
                {
                    "output_type": "execute_result",
                    "execution_count": 4,
                    "data": {
                        "application/vnd.dataresource+json": {
                            "schema": {
                                "fields": [
                                    {
                                        "name": "EmployeeID"
                                    }
                                ]
                            },
                            "data": [
                                {
                                    "0": "1001"
                                },
                                {
                                    "0": "1002"
                                },
                                {
                                    "0": "1003"
                                },
                                {
                                    "0": "1004"
                                },
                                {
                                    "0": "1005"
                                },
                                {
                                    "0": "1006"
                                },
                                {
                                    "0": "1007"
                                },
                                {
                                    "0": "1008"
                                },
                                {
                                    "0": "1009"
                                }
                            ]
                        },
                        "text/html": "<table><tr><th>EmployeeID</th></tr><tr><td>1001</td></tr><tr><td>1002</td></tr><tr><td>1003</td></tr><tr><td>1004</td></tr><tr><td>1005</td></tr><tr><td>1006</td></tr><tr><td>1007</td></tr><tr><td>1008</td></tr><tr><td>1009</td></tr></table>"
                    },
                    "metadata": {}
                }
            ],
            "execution_count": 4
        },
        {
            "cell_type": "code",
            "source": [
                "SELECT DISTINCT(Gender)\r\n",
                "FROM EmployeeDemographics"
            ],
            "metadata": {
                "azdata_cell_guid": "e4b77203-7051-4d6e-a251-8c15aac646fe"
            },
            "outputs": [
                {
                    "output_type": "display_data",
                    "data": {
                        "text/html": "(2 rows affected)"
                    },
                    "metadata": {}
                },
                {
                    "output_type": "display_data",
                    "data": {
                        "text/html": "Total execution time: 00:00:00.111"
                    },
                    "metadata": {}
                },
                {
                    "output_type": "execute_result",
                    "execution_count": 5,
                    "data": {
                        "application/vnd.dataresource+json": {
                            "schema": {
                                "fields": [
                                    {
                                        "name": "Gender"
                                    }
                                ]
                            },
                            "data": [
                                {
                                    "0": "Female"
                                },
                                {
                                    "0": "Male"
                                }
                            ]
                        },
                        "text/html": "<table><tr><th>Gender</th></tr><tr><td>Female</td></tr><tr><td>Male</td></tr></table>"
                    },
                    "metadata": {}
                }
            ],
            "execution_count": 5
        },
        {
            "cell_type": "markdown",
            "source": [
                "### **COUNT()  is used to count the no. of rows**"
            ],
            "metadata": {
                "azdata_cell_guid": "cd954523-a5fc-4a6f-a3b5-97d206600670"
            }
        },
        {
            "cell_type": "code",
            "source": [
                "SELECT COUNT(FirstName)\r\n",
                "FROM EmployeeDemographics\r\n",
                "\r\n",
                "SELECT COUNT(Gender)\r\n",
                "FROM EmployeeDemographics"
            ],
            "metadata": {
                "azdata_cell_guid": "447dda1c-e242-4acd-80db-7d74bf9b5374"
            },
            "outputs": [
                {
                    "output_type": "display_data",
                    "data": {
                        "text/html": "(1 row affected)"
                    },
                    "metadata": {}
                },
                {
                    "output_type": "display_data",
                    "data": {
                        "text/html": "(1 row affected)"
                    },
                    "metadata": {}
                },
                {
                    "output_type": "display_data",
                    "data": {
                        "text/html": "Total execution time: 00:00:00.014"
                    },
                    "metadata": {}
                },
                {
                    "output_type": "execute_result",
                    "execution_count": 36,
                    "data": {
                        "application/vnd.dataresource+json": {
                            "schema": {
                                "fields": [
                                    {
                                        "name": "(No column name)"
                                    }
                                ]
                            },
                            "data": [
                                {
                                    "0": "9"
                                }
                            ]
                        },
                        "text/html": "<table><tr><th>(No column name)</th></tr><tr><td>9</td></tr></table>"
                    },
                    "metadata": {}
                },
                {
                    "output_type": "execute_result",
                    "execution_count": 36,
                    "data": {
                        "application/vnd.dataresource+json": {
                            "schema": {
                                "fields": [
                                    {
                                        "name": "(No column name)"
                                    }
                                ]
                            },
                            "data": [
                                {
                                    "0": "9"
                                }
                            ]
                        },
                        "text/html": "<table><tr><th>(No column name)</th></tr><tr><td>9</td></tr></table>"
                    },
                    "metadata": {}
                }
            ],
            "execution_count": 36
        },
        {
            "cell_type": "markdown",
            "source": [
                "### **AS** is used to **give the name of the colume** as in above result it show **\"No column name\"**"
            ],
            "metadata": {
                "azdata_cell_guid": "b65df76e-23d3-4bd0-8cc1-8d1327f39100"
            }
        },
        {
            "cell_type": "code",
            "source": [
                "SELECT COUNT(FirstName) AS FirstName_Count\r\n",
                "FROM EmployeeDemographics"
            ],
            "metadata": {
                "azdata_cell_guid": "fd5fd279-d434-428a-a98a-9098a4417b70"
            },
            "outputs": [
                {
                    "output_type": "display_data",
                    "data": {
                        "text/html": "(1 row affected)"
                    },
                    "metadata": {}
                },
                {
                    "output_type": "display_data",
                    "data": {
                        "text/html": "Total execution time: 00:00:00.080"
                    },
                    "metadata": {}
                },
                {
                    "output_type": "execute_result",
                    "execution_count": 7,
                    "data": {
                        "application/vnd.dataresource+json": {
                            "schema": {
                                "fields": [
                                    {
                                        "name": "FirstName_Count"
                                    }
                                ]
                            },
                            "data": [
                                {
                                    "0": "9"
                                }
                            ]
                        },
                        "text/html": "<table><tr><th>FirstName_Count</th></tr><tr><td>9</td></tr></table>"
                    },
                    "metadata": {}
                }
            ],
            "execution_count": 7
        },
        {
            "cell_type": "markdown",
            "source": [
                "### Find All in Employee Salary"
            ],
            "metadata": {
                "azdata_cell_guid": "1ea51956-b21c-4ae4-b573-de4d56c27e33"
            }
        },
        {
            "cell_type": "code",
            "source": [
                "SELECT *\r\n",
                "FROM EmployeeSalary"
            ],
            "metadata": {
                "azdata_cell_guid": "c590ac1d-1a8d-4824-91d5-68bdf797f99c"
            },
            "outputs": [
                {
                    "output_type": "display_data",
                    "data": {
                        "text/html": "(9 rows affected)"
                    },
                    "metadata": {}
                },
                {
                    "output_type": "display_data",
                    "data": {
                        "text/html": "Total execution time: 00:00:00.066"
                    },
                    "metadata": {}
                },
                {
                    "output_type": "execute_result",
                    "execution_count": 11,
                    "data": {
                        "application/vnd.dataresource+json": {
                            "schema": {
                                "fields": [
                                    {
                                        "name": "EmployeeID"
                                    },
                                    {
                                        "name": "JobTitle"
                                    },
                                    {
                                        "name": "Salary"
                                    }
                                ]
                            },
                            "data": [
                                {
                                    "0": "1001",
                                    "1": "Salesman",
                                    "2": "45000"
                                },
                                {
                                    "0": "1002",
                                    "1": "Receptionist",
                                    "2": "36000"
                                },
                                {
                                    "0": "1003",
                                    "1": "Salesman",
                                    "2": "63000"
                                },
                                {
                                    "0": "1004",
                                    "1": "Accountant",
                                    "2": "47000"
                                },
                                {
                                    "0": "1005",
                                    "1": "HR",
                                    "2": "50000"
                                },
                                {
                                    "0": "1006",
                                    "1": "Regional Manager",
                                    "2": "65000"
                                },
                                {
                                    "0": "1007",
                                    "1": "Supplier Relations",
                                    "2": "41000"
                                },
                                {
                                    "0": "1008",
                                    "1": "Salesman",
                                    "2": "48000"
                                },
                                {
                                    "0": "1009",
                                    "1": "Accountant",
                                    "2": "42000"
                                }
                            ]
                        },
                        "text/html": "<table><tr><th>EmployeeID</th><th>JobTitle</th><th>Salary</th></tr><tr><td>1001</td><td>Salesman</td><td>45000</td></tr><tr><td>1002</td><td>Receptionist</td><td>36000</td></tr><tr><td>1003</td><td>Salesman</td><td>63000</td></tr><tr><td>1004</td><td>Accountant</td><td>47000</td></tr><tr><td>1005</td><td>HR</td><td>50000</td></tr><tr><td>1006</td><td>Regional Manager</td><td>65000</td></tr><tr><td>1007</td><td>Supplier Relations</td><td>41000</td></tr><tr><td>1008</td><td>Salesman</td><td>48000</td></tr><tr><td>1009</td><td>Accountant</td><td>42000</td></tr></table>"
                    },
                    "metadata": {}
                }
            ],
            "execution_count": 11
        },
        {
            "cell_type": "markdown",
            "source": [
                "### **Find Maximum (MAX),Minimum (MIN) and Average (AVG) of the Salary in EmployeeSalary**"
            ],
            "metadata": {
                "azdata_cell_guid": "db564d31-9f36-4810-b9ab-45121122723e"
            }
        },
        {
            "cell_type": "code",
            "source": [
                "SELECT MAX(Salary)\r\n",
                "FROM EmployeeSalary"
            ],
            "metadata": {
                "azdata_cell_guid": "118cc0e0-5895-4b1a-96c1-3b7140ead2e3"
            },
            "outputs": [
                {
                    "output_type": "display_data",
                    "data": {
                        "text/html": "(1 row affected)"
                    },
                    "metadata": {}
                },
                {
                    "output_type": "display_data",
                    "data": {
                        "text/html": "Total execution time: 00:00:00.147"
                    },
                    "metadata": {}
                },
                {
                    "output_type": "execute_result",
                    "execution_count": 12,
                    "data": {
                        "application/vnd.dataresource+json": {
                            "schema": {
                                "fields": [
                                    {
                                        "name": "(No column name)"
                                    }
                                ]
                            },
                            "data": [
                                {
                                    "0": "65000"
                                }
                            ]
                        },
                        "text/html": "<table><tr><th>(No column name)</th></tr><tr><td>65000</td></tr></table>"
                    },
                    "metadata": {}
                }
            ],
            "execution_count": 12
        },
        {
            "cell_type": "code",
            "source": [
                "SELECT MIN(Salary)\r\n",
                "FROM EmployeeSalary"
            ],
            "metadata": {
                "azdata_cell_guid": "23a0d2bb-e4f4-4a32-a2d7-e3117fb8042d"
            },
            "outputs": [
                {
                    "output_type": "display_data",
                    "data": {
                        "text/html": "(1 row affected)"
                    },
                    "metadata": {}
                },
                {
                    "output_type": "display_data",
                    "data": {
                        "text/html": "Total execution time: 00:00:00.063"
                    },
                    "metadata": {}
                },
                {
                    "output_type": "execute_result",
                    "execution_count": 13,
                    "data": {
                        "application/vnd.dataresource+json": {
                            "schema": {
                                "fields": [
                                    {
                                        "name": "(No column name)"
                                    }
                                ]
                            },
                            "data": [
                                {
                                    "0": "36000"
                                }
                            ]
                        },
                        "text/html": "<table><tr><th>(No column name)</th></tr><tr><td>36000</td></tr></table>"
                    },
                    "metadata": {}
                }
            ],
            "execution_count": 13
        },
        {
            "cell_type": "code",
            "source": [
                "SELECT AVG(Salary)\r\n",
                "FROM EmployeeSalary"
            ],
            "metadata": {
                "azdata_cell_guid": "da8d4bec-8e37-4317-90be-914f00e8e0fa"
            },
            "outputs": [
                {
                    "output_type": "display_data",
                    "data": {
                        "text/html": "(1 row affected)"
                    },
                    "metadata": {}
                },
                {
                    "output_type": "display_data",
                    "data": {
                        "text/html": "Total execution time: 00:00:00.081"
                    },
                    "metadata": {}
                },
                {
                    "output_type": "execute_result",
                    "execution_count": 14,
                    "data": {
                        "application/vnd.dataresource+json": {
                            "schema": {
                                "fields": [
                                    {
                                        "name": "(No column name)"
                                    }
                                ]
                            },
                            "data": [
                                {
                                    "0": "48555"
                                }
                            ]
                        },
                        "text/html": "<table><tr><th>(No column name)</th></tr><tr><td>48555</td></tr></table>"
                    },
                    "metadata": {}
                }
            ],
            "execution_count": 14
        },
        {
            "cell_type": "markdown",
            "source": [
                "## **WHERE** Statement  **\\=,  \\<\\>  , \\< ,   \\> ,   AND,  OR , LIKE, NULL,  NOT NULL , IN**"
            ],
            "metadata": {
                "azdata_cell_guid": "25418340-989f-45ac-b202-ec1a11204248"
            }
        },
        {
            "cell_type": "markdown",
            "source": [
                "###  Select where name is \\= , \\<\\>"
            ],
            "metadata": {
                "azdata_cell_guid": "401d3df7-64eb-4203-bb97-cdb4c209debb"
            }
        },
        {
            "cell_type": "code",
            "source": [
                "SELECT *\r\n",
                "FROM EmployeeDemographics\r\n",
                "WHERE FirstName='Riya'"
            ],
            "metadata": {
                "azdata_cell_guid": "fe34a25e-a1ca-4af7-b8e8-1e66f9dec204",
                "tags": [
                    "hide_input"
                ]
            },
            "outputs": [
                {
                    "output_type": "display_data",
                    "data": {
                        "text/html": "(1 row affected)"
                    },
                    "metadata": {}
                },
                {
                    "output_type": "display_data",
                    "data": {
                        "text/html": "Total execution time: 00:00:00.067"
                    },
                    "metadata": {}
                },
                {
                    "output_type": "execute_result",
                    "execution_count": 15,
                    "data": {
                        "application/vnd.dataresource+json": {
                            "schema": {
                                "fields": [
                                    {
                                        "name": "EmployeeID"
                                    },
                                    {
                                        "name": "FirstName"
                                    },
                                    {
                                        "name": "LastName"
                                    },
                                    {
                                        "name": "Age"
                                    },
                                    {
                                        "name": "Gender"
                                    }
                                ]
                            },
                            "data": [
                                {
                                    "0": "1003",
                                    "1": "Riya",
                                    "2": "Ray",
                                    "3": "28",
                                    "4": "Female"
                                }
                            ]
                        },
                        "text/html": "<table><tr><th>EmployeeID</th><th>FirstName</th><th>LastName</th><th>Age</th><th>Gender</th></tr><tr><td>1003</td><td>Riya</td><td>Ray</td><td>28</td><td>Female</td></tr></table>"
                    },
                    "metadata": {}
                }
            ],
            "execution_count": 15
        },
        {
            "cell_type": "code",
            "source": [
                "SELECT *\r\n",
                "FROM EmployeeDemographics\r\n",
                "WHERE FirstName <> 'Riya'"
            ],
            "metadata": {
                "azdata_cell_guid": "cd7afbb8-f3d5-4635-b858-6be460a6bf18",
                "tags": []
            },
            "outputs": [
                {
                    "output_type": "display_data",
                    "data": {
                        "text/html": "(8 rows affected)"
                    },
                    "metadata": {}
                },
                {
                    "output_type": "display_data",
                    "data": {
                        "text/html": "Total execution time: 00:00:00.010"
                    },
                    "metadata": {}
                },
                {
                    "output_type": "execute_result",
                    "execution_count": 20,
                    "data": {
                        "application/vnd.dataresource+json": {
                            "schema": {
                                "fields": [
                                    {
                                        "name": "EmployeeID"
                                    },
                                    {
                                        "name": "FirstName"
                                    },
                                    {
                                        "name": "LastName"
                                    },
                                    {
                                        "name": "Age"
                                    },
                                    {
                                        "name": "Gender"
                                    }
                                ]
                            },
                            "data": [
                                {
                                    "0": "1001",
                                    "1": "Jim",
                                    "2": "Harin",
                                    "3": "32",
                                    "4": "Male"
                                },
                                {
                                    "0": "1002",
                                    "1": "John",
                                    "2": "Mark",
                                    "3": "35",
                                    "4": "Male"
                                },
                                {
                                    "0": "1004",
                                    "1": "Harry",
                                    "2": "pal",
                                    "3": "36",
                                    "4": "Male"
                                },
                                {
                                    "0": "1005",
                                    "1": "Ram",
                                    "2": "Singh",
                                    "3": "38",
                                    "4": "Male"
                                },
                                {
                                    "0": "1006",
                                    "1": "Harry",
                                    "2": "pal",
                                    "3": "36",
                                    "4": "Male"
                                },
                                {
                                    "0": "1007",
                                    "1": "Meredith",
                                    "2": "Palmer",
                                    "3": "32",
                                    "4": "Female"
                                },
                                {
                                    "0": "1008",
                                    "1": "Stanley",
                                    "2": "Hudson",
                                    "3": "38",
                                    "4": "Male"
                                },
                                {
                                    "0": "1009",
                                    "1": "Kevin",
                                    "2": "Malone",
                                    "3": "31",
                                    "4": "Male"
                                }
                            ]
                        },
                        "text/html": "<table><tr><th>EmployeeID</th><th>FirstName</th><th>LastName</th><th>Age</th><th>Gender</th></tr><tr><td>1001</td><td>Jim</td><td>Harin</td><td>32</td><td>Male</td></tr><tr><td>1002</td><td>John</td><td>Mark</td><td>35</td><td>Male</td></tr><tr><td>1004</td><td>Harry</td><td>pal</td><td>36</td><td>Male</td></tr><tr><td>1005</td><td>Ram</td><td>Singh</td><td>38</td><td>Male</td></tr><tr><td>1006</td><td>Harry</td><td>pal</td><td>36</td><td>Male</td></tr><tr><td>1007</td><td>Meredith</td><td>Palmer</td><td>32</td><td>Female</td></tr><tr><td>1008</td><td>Stanley</td><td>Hudson</td><td>38</td><td>Male</td></tr><tr><td>1009</td><td>Kevin</td><td>Malone</td><td>31</td><td>Male</td></tr></table>"
                    },
                    "metadata": {}
                }
            ],
            "execution_count": 20
        },
        {
            "cell_type": "markdown",
            "source": [
                "### Finding Age **\\<   ,   \\>,   \\<=,  \\>=**"
            ],
            "metadata": {
                "azdata_cell_guid": "aa224bb8-46cc-4778-a534-28f8817133c2"
            }
        },
        {
            "cell_type": "code",
            "source": [
                "SELECT *\r\n",
                "FROM EmployeeDemographics\r\n",
                "WHERE Age > 32"
            ],
            "metadata": {
                "azdata_cell_guid": "f47ef901-5024-466e-bd1b-14525729e211"
            },
            "outputs": [
                {
                    "output_type": "display_data",
                    "data": {
                        "text/html": "(5 rows affected)"
                    },
                    "metadata": {}
                },
                {
                    "output_type": "display_data",
                    "data": {
                        "text/html": "Total execution time: 00:00:00.456"
                    },
                    "metadata": {}
                },
                {
                    "output_type": "execute_result",
                    "execution_count": 26,
                    "data": {
                        "application/vnd.dataresource+json": {
                            "schema": {
                                "fields": [
                                    {
                                        "name": "EmployeeID"
                                    },
                                    {
                                        "name": "FirstName"
                                    },
                                    {
                                        "name": "LastName"
                                    },
                                    {
                                        "name": "Age"
                                    },
                                    {
                                        "name": "Gender"
                                    }
                                ]
                            },
                            "data": [
                                {
                                    "0": "1002",
                                    "1": "John",
                                    "2": "Mark",
                                    "3": "35",
                                    "4": "Male"
                                },
                                {
                                    "0": "1004",
                                    "1": "Harry",
                                    "2": "pal",
                                    "3": "36",
                                    "4": "Male"
                                },
                                {
                                    "0": "1005",
                                    "1": "Ram",
                                    "2": "Singh",
                                    "3": "38",
                                    "4": "Male"
                                },
                                {
                                    "0": "1006",
                                    "1": "Harry",
                                    "2": "pal",
                                    "3": "36",
                                    "4": "Male"
                                },
                                {
                                    "0": "1008",
                                    "1": "Stanley",
                                    "2": "Hudson",
                                    "3": "38",
                                    "4": "Male"
                                }
                            ]
                        },
                        "text/html": "<table><tr><th>EmployeeID</th><th>FirstName</th><th>LastName</th><th>Age</th><th>Gender</th></tr><tr><td>1002</td><td>John</td><td>Mark</td><td>35</td><td>Male</td></tr><tr><td>1004</td><td>Harry</td><td>pal</td><td>36</td><td>Male</td></tr><tr><td>1005</td><td>Ram</td><td>Singh</td><td>38</td><td>Male</td></tr><tr><td>1006</td><td>Harry</td><td>pal</td><td>36</td><td>Male</td></tr><tr><td>1008</td><td>Stanley</td><td>Hudson</td><td>38</td><td>Male</td></tr></table>"
                    },
                    "metadata": {}
                }
            ],
            "execution_count": 26
        },
        {
            "cell_type": "code",
            "source": [
                "SELECT *\r\n",
                "FROM EmployeeDemographics\r\n",
                "WHERE Age < 35"
            ],
            "metadata": {
                "azdata_cell_guid": "28ae455d-8acd-42bc-b441-eb8349398911"
            },
            "outputs": [
                {
                    "output_type": "display_data",
                    "data": {
                        "text/html": "(4 rows affected)"
                    },
                    "metadata": {}
                },
                {
                    "output_type": "display_data",
                    "data": {
                        "text/html": "Total execution time: 00:00:00.062"
                    },
                    "metadata": {}
                },
                {
                    "output_type": "execute_result",
                    "execution_count": 24,
                    "data": {
                        "application/vnd.dataresource+json": {
                            "schema": {
                                "fields": [
                                    {
                                        "name": "EmployeeID"
                                    },
                                    {
                                        "name": "FirstName"
                                    },
                                    {
                                        "name": "LastName"
                                    },
                                    {
                                        "name": "Age"
                                    },
                                    {
                                        "name": "Gender"
                                    }
                                ]
                            },
                            "data": [
                                {
                                    "0": "1001",
                                    "1": "Jim",
                                    "2": "Harin",
                                    "3": "32",
                                    "4": "Male"
                                },
                                {
                                    "0": "1003",
                                    "1": "Riya",
                                    "2": "Ray",
                                    "3": "28",
                                    "4": "Female"
                                },
                                {
                                    "0": "1007",
                                    "1": "Meredith",
                                    "2": "Palmer",
                                    "3": "32",
                                    "4": "Female"
                                },
                                {
                                    "0": "1009",
                                    "1": "Kevin",
                                    "2": "Malone",
                                    "3": "31",
                                    "4": "Male"
                                }
                            ]
                        },
                        "text/html": "<table><tr><th>EmployeeID</th><th>FirstName</th><th>LastName</th><th>Age</th><th>Gender</th></tr><tr><td>1001</td><td>Jim</td><td>Harin</td><td>32</td><td>Male</td></tr><tr><td>1003</td><td>Riya</td><td>Ray</td><td>28</td><td>Female</td></tr><tr><td>1007</td><td>Meredith</td><td>Palmer</td><td>32</td><td>Female</td></tr><tr><td>1009</td><td>Kevin</td><td>Malone</td><td>31</td><td>Male</td></tr></table>"
                    },
                    "metadata": {}
                }
            ],
            "execution_count": 24
        },
        {
            "cell_type": "code",
            "source": [
                "SELECT *\r\n",
                "FROM EmployeeDemographics\r\n",
                "WHERE Age >= 32"
            ],
            "metadata": {
                "azdata_cell_guid": "0b7b82e2-8cd9-402d-9daf-6981d72c06c7"
            },
            "outputs": [
                {
                    "output_type": "display_data",
                    "data": {
                        "text/html": "(7 rows affected)"
                    },
                    "metadata": {}
                },
                {
                    "output_type": "display_data",
                    "data": {
                        "text/html": "Total execution time: 00:00:00.140"
                    },
                    "metadata": {}
                },
                {
                    "output_type": "execute_result",
                    "execution_count": 27,
                    "data": {
                        "application/vnd.dataresource+json": {
                            "schema": {
                                "fields": [
                                    {
                                        "name": "EmployeeID"
                                    },
                                    {
                                        "name": "FirstName"
                                    },
                                    {
                                        "name": "LastName"
                                    },
                                    {
                                        "name": "Age"
                                    },
                                    {
                                        "name": "Gender"
                                    }
                                ]
                            },
                            "data": [
                                {
                                    "0": "1001",
                                    "1": "Jim",
                                    "2": "Harin",
                                    "3": "32",
                                    "4": "Male"
                                },
                                {
                                    "0": "1002",
                                    "1": "John",
                                    "2": "Mark",
                                    "3": "35",
                                    "4": "Male"
                                },
                                {
                                    "0": "1004",
                                    "1": "Harry",
                                    "2": "pal",
                                    "3": "36",
                                    "4": "Male"
                                },
                                {
                                    "0": "1005",
                                    "1": "Ram",
                                    "2": "Singh",
                                    "3": "38",
                                    "4": "Male"
                                },
                                {
                                    "0": "1006",
                                    "1": "Harry",
                                    "2": "pal",
                                    "3": "36",
                                    "4": "Male"
                                },
                                {
                                    "0": "1007",
                                    "1": "Meredith",
                                    "2": "Palmer",
                                    "3": "32",
                                    "4": "Female"
                                },
                                {
                                    "0": "1008",
                                    "1": "Stanley",
                                    "2": "Hudson",
                                    "3": "38",
                                    "4": "Male"
                                }
                            ]
                        },
                        "text/html": "<table><tr><th>EmployeeID</th><th>FirstName</th><th>LastName</th><th>Age</th><th>Gender</th></tr><tr><td>1001</td><td>Jim</td><td>Harin</td><td>32</td><td>Male</td></tr><tr><td>1002</td><td>John</td><td>Mark</td><td>35</td><td>Male</td></tr><tr><td>1004</td><td>Harry</td><td>pal</td><td>36</td><td>Male</td></tr><tr><td>1005</td><td>Ram</td><td>Singh</td><td>38</td><td>Male</td></tr><tr><td>1006</td><td>Harry</td><td>pal</td><td>36</td><td>Male</td></tr><tr><td>1007</td><td>Meredith</td><td>Palmer</td><td>32</td><td>Female</td></tr><tr><td>1008</td><td>Stanley</td><td>Hudson</td><td>38</td><td>Male</td></tr></table>"
                    },
                    "metadata": {}
                }
            ],
            "execution_count": 27
        },
        {
            "cell_type": "code",
            "source": [
                "SELECT *\r\n",
                "FROM EmployeeDemographics\r\n",
                "WHERE Age <= 35"
            ],
            "metadata": {
                "azdata_cell_guid": "161a3658-a1d6-4688-aa8e-0dd7fdd6b1fd"
            },
            "outputs": [
                {
                    "output_type": "display_data",
                    "data": {
                        "text/html": "(5 rows affected)"
                    },
                    "metadata": {}
                },
                {
                    "output_type": "display_data",
                    "data": {
                        "text/html": "Total execution time: 00:00:00.234"
                    },
                    "metadata": {}
                },
                {
                    "output_type": "execute_result",
                    "execution_count": 28,
                    "data": {
                        "application/vnd.dataresource+json": {
                            "schema": {
                                "fields": [
                                    {
                                        "name": "EmployeeID"
                                    },
                                    {
                                        "name": "FirstName"
                                    },
                                    {
                                        "name": "LastName"
                                    },
                                    {
                                        "name": "Age"
                                    },
                                    {
                                        "name": "Gender"
                                    }
                                ]
                            },
                            "data": [
                                {
                                    "0": "1001",
                                    "1": "Jim",
                                    "2": "Harin",
                                    "3": "32",
                                    "4": "Male"
                                },
                                {
                                    "0": "1002",
                                    "1": "John",
                                    "2": "Mark",
                                    "3": "35",
                                    "4": "Male"
                                },
                                {
                                    "0": "1003",
                                    "1": "Riya",
                                    "2": "Ray",
                                    "3": "28",
                                    "4": "Female"
                                },
                                {
                                    "0": "1007",
                                    "1": "Meredith",
                                    "2": "Palmer",
                                    "3": "32",
                                    "4": "Female"
                                },
                                {
                                    "0": "1009",
                                    "1": "Kevin",
                                    "2": "Malone",
                                    "3": "31",
                                    "4": "Male"
                                }
                            ]
                        },
                        "text/html": "<table><tr><th>EmployeeID</th><th>FirstName</th><th>LastName</th><th>Age</th><th>Gender</th></tr><tr><td>1001</td><td>Jim</td><td>Harin</td><td>32</td><td>Male</td></tr><tr><td>1002</td><td>John</td><td>Mark</td><td>35</td><td>Male</td></tr><tr><td>1003</td><td>Riya</td><td>Ray</td><td>28</td><td>Female</td></tr><tr><td>1007</td><td>Meredith</td><td>Palmer</td><td>32</td><td>Female</td></tr><tr><td>1009</td><td>Kevin</td><td>Malone</td><td>31</td><td>Male</td></tr></table>"
                    },
                    "metadata": {}
                }
            ],
            "execution_count": 28
        },
        {
            "cell_type": "markdown",
            "source": [
                "### **AND , OR**"
            ],
            "metadata": {
                "azdata_cell_guid": "c65c536f-9529-42f5-9487-58048be25eab"
            }
        },
        {
            "cell_type": "code",
            "source": [
                "SELECT *\r\n",
                "FROM EmployeeDemographics\r\n",
                "WHERE Age < 35 AND Gender='Male'"
            ],
            "metadata": {
                "azdata_cell_guid": "f71ff9ba-66af-4fe0-9491-fb1ee5fafa1e"
            },
            "outputs": [
                {
                    "output_type": "display_data",
                    "data": {
                        "text/html": "(2 rows affected)"
                    },
                    "metadata": {}
                },
                {
                    "output_type": "display_data",
                    "data": {
                        "text/html": "Total execution time: 00:00:00.155"
                    },
                    "metadata": {}
                },
                {
                    "output_type": "execute_result",
                    "execution_count": 30,
                    "data": {
                        "application/vnd.dataresource+json": {
                            "schema": {
                                "fields": [
                                    {
                                        "name": "EmployeeID"
                                    },
                                    {
                                        "name": "FirstName"
                                    },
                                    {
                                        "name": "LastName"
                                    },
                                    {
                                        "name": "Age"
                                    },
                                    {
                                        "name": "Gender"
                                    }
                                ]
                            },
                            "data": [
                                {
                                    "0": "1001",
                                    "1": "Jim",
                                    "2": "Harin",
                                    "3": "32",
                                    "4": "Male"
                                },
                                {
                                    "0": "1009",
                                    "1": "Kevin",
                                    "2": "Malone",
                                    "3": "31",
                                    "4": "Male"
                                }
                            ]
                        },
                        "text/html": "<table><tr><th>EmployeeID</th><th>FirstName</th><th>LastName</th><th>Age</th><th>Gender</th></tr><tr><td>1001</td><td>Jim</td><td>Harin</td><td>32</td><td>Male</td></tr><tr><td>1009</td><td>Kevin</td><td>Malone</td><td>31</td><td>Male</td></tr></table>"
                    },
                    "metadata": {}
                }
            ],
            "execution_count": 30
        },
        {
            "cell_type": "code",
            "source": [
                "SELECT *\r\n",
                "FROM EmployeeDemographics\r\n",
                "WHERE Age < 35 OR Gender='Male'"
            ],
            "metadata": {
                "azdata_cell_guid": "2a1d7ffe-2f5a-4036-9e50-4b03a9e5df17"
            },
            "outputs": [
                {
                    "output_type": "display_data",
                    "data": {
                        "text/html": "(9 rows affected)"
                    },
                    "metadata": {}
                },
                {
                    "output_type": "display_data",
                    "data": {
                        "text/html": "Total execution time: 00:00:00.439"
                    },
                    "metadata": {}
                },
                {
                    "output_type": "execute_result",
                    "execution_count": 31,
                    "data": {
                        "application/vnd.dataresource+json": {
                            "schema": {
                                "fields": [
                                    {
                                        "name": "EmployeeID"
                                    },
                                    {
                                        "name": "FirstName"
                                    },
                                    {
                                        "name": "LastName"
                                    },
                                    {
                                        "name": "Age"
                                    },
                                    {
                                        "name": "Gender"
                                    }
                                ]
                            },
                            "data": [
                                {
                                    "0": "1001",
                                    "1": "Jim",
                                    "2": "Harin",
                                    "3": "32",
                                    "4": "Male"
                                },
                                {
                                    "0": "1002",
                                    "1": "John",
                                    "2": "Mark",
                                    "3": "35",
                                    "4": "Male"
                                },
                                {
                                    "0": "1003",
                                    "1": "Riya",
                                    "2": "Ray",
                                    "3": "28",
                                    "4": "Female"
                                },
                                {
                                    "0": "1004",
                                    "1": "Harry",
                                    "2": "pal",
                                    "3": "36",
                                    "4": "Male"
                                },
                                {
                                    "0": "1005",
                                    "1": "Ram",
                                    "2": "Singh",
                                    "3": "38",
                                    "4": "Male"
                                },
                                {
                                    "0": "1006",
                                    "1": "Harry",
                                    "2": "pal",
                                    "3": "36",
                                    "4": "Male"
                                },
                                {
                                    "0": "1007",
                                    "1": "Meredith",
                                    "2": "Palmer",
                                    "3": "32",
                                    "4": "Female"
                                },
                                {
                                    "0": "1008",
                                    "1": "Stanley",
                                    "2": "Hudson",
                                    "3": "38",
                                    "4": "Male"
                                },
                                {
                                    "0": "1009",
                                    "1": "Kevin",
                                    "2": "Malone",
                                    "3": "31",
                                    "4": "Male"
                                }
                            ]
                        },
                        "text/html": "<table><tr><th>EmployeeID</th><th>FirstName</th><th>LastName</th><th>Age</th><th>Gender</th></tr><tr><td>1001</td><td>Jim</td><td>Harin</td><td>32</td><td>Male</td></tr><tr><td>1002</td><td>John</td><td>Mark</td><td>35</td><td>Male</td></tr><tr><td>1003</td><td>Riya</td><td>Ray</td><td>28</td><td>Female</td></tr><tr><td>1004</td><td>Harry</td><td>pal</td><td>36</td><td>Male</td></tr><tr><td>1005</td><td>Ram</td><td>Singh</td><td>38</td><td>Male</td></tr><tr><td>1006</td><td>Harry</td><td>pal</td><td>36</td><td>Male</td></tr><tr><td>1007</td><td>Meredith</td><td>Palmer</td><td>32</td><td>Female</td></tr><tr><td>1008</td><td>Stanley</td><td>Hudson</td><td>38</td><td>Male</td></tr><tr><td>1009</td><td>Kevin</td><td>Malone</td><td>31</td><td>Male</td></tr></table>"
                    },
                    "metadata": {}
                }
            ],
            "execution_count": 31
        },
        {
            "cell_type": "markdown",
            "source": [
                "### **LIKE**  to find text or value with single char"
            ],
            "metadata": {
                "azdata_cell_guid": "39b3502f-8d2c-453a-a221-f4e720a6f47d"
            }
        },
        {
            "cell_type": "code",
            "source": [
                "SELECT *\r\n",
                "FROM EmployeeDemographics\r\n",
                "WHERE LastName like 'P%' "
            ],
            "metadata": {
                "azdata_cell_guid": "d77598ef-04db-48e7-95d8-97f45b52e005"
            },
            "outputs": [
                {
                    "output_type": "display_data",
                    "data": {
                        "text/html": "(3 rows affected)"
                    },
                    "metadata": {}
                },
                {
                    "output_type": "display_data",
                    "data": {
                        "text/html": "Total execution time: 00:00:00.227"
                    },
                    "metadata": {}
                },
                {
                    "output_type": "execute_result",
                    "execution_count": 34,
                    "data": {
                        "application/vnd.dataresource+json": {
                            "schema": {
                                "fields": [
                                    {
                                        "name": "EmployeeID"
                                    },
                                    {
                                        "name": "FirstName"
                                    },
                                    {
                                        "name": "LastName"
                                    },
                                    {
                                        "name": "Age"
                                    },
                                    {
                                        "name": "Gender"
                                    }
                                ]
                            },
                            "data": [
                                {
                                    "0": "1004",
                                    "1": "Harry",
                                    "2": "pal",
                                    "3": "36",
                                    "4": "Male"
                                },
                                {
                                    "0": "1006",
                                    "1": "Harry",
                                    "2": "pal",
                                    "3": "36",
                                    "4": "Male"
                                },
                                {
                                    "0": "1007",
                                    "1": "Meredith",
                                    "2": "Palmer",
                                    "3": "32",
                                    "4": "Female"
                                }
                            ]
                        },
                        "text/html": "<table><tr><th>EmployeeID</th><th>FirstName</th><th>LastName</th><th>Age</th><th>Gender</th></tr><tr><td>1004</td><td>Harry</td><td>pal</td><td>36</td><td>Male</td></tr><tr><td>1006</td><td>Harry</td><td>pal</td><td>36</td><td>Male</td></tr><tr><td>1007</td><td>Meredith</td><td>Palmer</td><td>32</td><td>Female</td></tr></table>"
                    },
                    "metadata": {}
                }
            ],
            "execution_count": 34
        },
        {
            "cell_type": "code",
            "source": [
                "SELECT *\r\n",
                "FROM EmployeeDemographics\r\n",
                "WHERE LastName like 'H%' AND Age LIKE '%8'"
            ],
            "metadata": {
                "azdata_cell_guid": "76f6b77e-a484-46b3-aebd-68f274c40197"
            },
            "outputs": [
                {
                    "output_type": "display_data",
                    "data": {
                        "text/html": "(1 row affected)"
                    },
                    "metadata": {}
                },
                {
                    "output_type": "display_data",
                    "data": {
                        "text/html": "Total execution time: 00:00:00.012"
                    },
                    "metadata": {}
                },
                {
                    "output_type": "execute_result",
                    "execution_count": 39,
                    "data": {
                        "application/vnd.dataresource+json": {
                            "schema": {
                                "fields": [
                                    {
                                        "name": "EmployeeID"
                                    },
                                    {
                                        "name": "FirstName"
                                    },
                                    {
                                        "name": "LastName"
                                    },
                                    {
                                        "name": "Age"
                                    },
                                    {
                                        "name": "Gender"
                                    }
                                ]
                            },
                            "data": [
                                {
                                    "0": "1008",
                                    "1": "Stanley",
                                    "2": "Hudson",
                                    "3": "38",
                                    "4": "Male"
                                }
                            ]
                        },
                        "text/html": "<table><tr><th>EmployeeID</th><th>FirstName</th><th>LastName</th><th>Age</th><th>Gender</th></tr><tr><td>1008</td><td>Stanley</td><td>Hudson</td><td>38</td><td>Male</td></tr></table>"
                    },
                    "metadata": {}
                }
            ],
            "execution_count": 39
        },
        {
            "cell_type": "code",
            "source": [
                "SELECT *\r\n",
                "FROM EmployeeDemographics\r\n",
                "WHERE LastName like 'P%a%' AND FirstName LIKE 'm%e%it%'"
            ],
            "metadata": {
                "azdata_cell_guid": "bdbbd80a-8611-4c47-bf1e-4ed2940e28fb"
            },
            "outputs": [
                {
                    "output_type": "display_data",
                    "data": {
                        "text/html": "(1 row affected)"
                    },
                    "metadata": {}
                },
                {
                    "output_type": "display_data",
                    "data": {
                        "text/html": "Total execution time: 00:00:00.072"
                    },
                    "metadata": {}
                },
                {
                    "output_type": "execute_result",
                    "execution_count": 45,
                    "data": {
                        "application/vnd.dataresource+json": {
                            "schema": {
                                "fields": [
                                    {
                                        "name": "EmployeeID"
                                    },
                                    {
                                        "name": "FirstName"
                                    },
                                    {
                                        "name": "LastName"
                                    },
                                    {
                                        "name": "Age"
                                    },
                                    {
                                        "name": "Gender"
                                    }
                                ]
                            },
                            "data": [
                                {
                                    "0": "1007",
                                    "1": "Meredith",
                                    "2": "Palmer",
                                    "3": "32",
                                    "4": "Female"
                                }
                            ]
                        },
                        "text/html": "<table><tr><th>EmployeeID</th><th>FirstName</th><th>LastName</th><th>Age</th><th>Gender</th></tr><tr><td>1007</td><td>Meredith</td><td>Palmer</td><td>32</td><td>Female</td></tr></table>"
                    },
                    "metadata": {}
                }
            ],
            "execution_count": 45
        },
        {
            "cell_type": "markdown",
            "source": [
                "### **NULL ,NOT NULL**"
            ],
            "metadata": {
                "azdata_cell_guid": "2697a01c-e458-4106-b52b-aa380bf482fa"
            }
        },
        {
            "cell_type": "code",
            "source": [
                "SELECT *\r\n",
                "FROM EmployeeDemographics\r\n",
                "WHERE LastName IS NULL"
            ],
            "metadata": {
                "azdata_cell_guid": "92f67cab-1dc3-4e95-865d-c1598ffe1b7f"
            },
            "outputs": [
                {
                    "output_type": "display_data",
                    "data": {
                        "text/html": "(0 rows affected)"
                    },
                    "metadata": {}
                },
                {
                    "output_type": "display_data",
                    "data": {
                        "text/html": "Total execution time: 00:00:00.083"
                    },
                    "metadata": {}
                },
                {
                    "output_type": "execute_result",
                    "execution_count": 46,
                    "data": {
                        "application/vnd.dataresource+json": {
                            "schema": {
                                "fields": [
                                    {
                                        "name": "EmployeeID"
                                    },
                                    {
                                        "name": "FirstName"
                                    },
                                    {
                                        "name": "LastName"
                                    },
                                    {
                                        "name": "Age"
                                    },
                                    {
                                        "name": "Gender"
                                    }
                                ]
                            },
                            "data": []
                        },
                        "text/html": "<table><tr><th>EmployeeID</th><th>FirstName</th><th>LastName</th><th>Age</th><th>Gender</th></tr></table>"
                    },
                    "metadata": {}
                }
            ],
            "execution_count": 46
        },
        {
            "cell_type": "code",
            "source": [
                "SELECT *\r\n",
                "FROM EmployeeDemographics\r\n",
                "WHERE LastName IS NOT NULL"
            ],
            "metadata": {
                "azdata_cell_guid": "3c0d1694-9e5f-4edd-804a-089855a628ed"
            },
            "outputs": [
                {
                    "output_type": "display_data",
                    "data": {
                        "text/html": "(9 rows affected)"
                    },
                    "metadata": {}
                },
                {
                    "output_type": "display_data",
                    "data": {
                        "text/html": "Total execution time: 00:00:00.032"
                    },
                    "metadata": {}
                },
                {
                    "output_type": "execute_result",
                    "execution_count": 47,
                    "data": {
                        "application/vnd.dataresource+json": {
                            "schema": {
                                "fields": [
                                    {
                                        "name": "EmployeeID"
                                    },
                                    {
                                        "name": "FirstName"
                                    },
                                    {
                                        "name": "LastName"
                                    },
                                    {
                                        "name": "Age"
                                    },
                                    {
                                        "name": "Gender"
                                    }
                                ]
                            },
                            "data": [
                                {
                                    "0": "1001",
                                    "1": "Jim",
                                    "2": "Harin",
                                    "3": "32",
                                    "4": "Male"
                                },
                                {
                                    "0": "1002",
                                    "1": "John",
                                    "2": "Mark",
                                    "3": "35",
                                    "4": "Male"
                                },
                                {
                                    "0": "1003",
                                    "1": "Riya",
                                    "2": "Ray",
                                    "3": "28",
                                    "4": "Female"
                                },
                                {
                                    "0": "1004",
                                    "1": "Harry",
                                    "2": "pal",
                                    "3": "36",
                                    "4": "Male"
                                },
                                {
                                    "0": "1005",
                                    "1": "Ram",
                                    "2": "Singh",
                                    "3": "38",
                                    "4": "Male"
                                },
                                {
                                    "0": "1006",
                                    "1": "Harry",
                                    "2": "pal",
                                    "3": "36",
                                    "4": "Male"
                                },
                                {
                                    "0": "1007",
                                    "1": "Meredith",
                                    "2": "Palmer",
                                    "3": "32",
                                    "4": "Female"
                                },
                                {
                                    "0": "1008",
                                    "1": "Stanley",
                                    "2": "Hudson",
                                    "3": "38",
                                    "4": "Male"
                                },
                                {
                                    "0": "1009",
                                    "1": "Kevin",
                                    "2": "Malone",
                                    "3": "31",
                                    "4": "Male"
                                }
                            ]
                        },
                        "text/html": "<table><tr><th>EmployeeID</th><th>FirstName</th><th>LastName</th><th>Age</th><th>Gender</th></tr><tr><td>1001</td><td>Jim</td><td>Harin</td><td>32</td><td>Male</td></tr><tr><td>1002</td><td>John</td><td>Mark</td><td>35</td><td>Male</td></tr><tr><td>1003</td><td>Riya</td><td>Ray</td><td>28</td><td>Female</td></tr><tr><td>1004</td><td>Harry</td><td>pal</td><td>36</td><td>Male</td></tr><tr><td>1005</td><td>Ram</td><td>Singh</td><td>38</td><td>Male</td></tr><tr><td>1006</td><td>Harry</td><td>pal</td><td>36</td><td>Male</td></tr><tr><td>1007</td><td>Meredith</td><td>Palmer</td><td>32</td><td>Female</td></tr><tr><td>1008</td><td>Stanley</td><td>Hudson</td><td>38</td><td>Male</td></tr><tr><td>1009</td><td>Kevin</td><td>Malone</td><td>31</td><td>Male</td></tr></table>"
                    },
                    "metadata": {}
                }
            ],
            "execution_count": 47
        },
        {
            "cell_type": "markdown",
            "source": [
                "### **IN** used to wirte in one line"
            ],
            "metadata": {
                "azdata_cell_guid": "403634a1-60dc-4f29-9d0f-79cf7da59136"
            }
        },
        {
            "cell_type": "code",
            "source": [
                "SELECT *\r\n",
                "FROM EmployeeDemographics\r\n",
                "WHERE LastName ='Pal' And LastName ='Mark'"
            ],
            "metadata": {
                "azdata_cell_guid": "74184c01-0693-46d7-b8e8-97a7b88c68c0"
            },
            "outputs": [
                {
                    "output_type": "display_data",
                    "data": {
                        "text/html": "(0 rows affected)"
                    },
                    "metadata": {}
                },
                {
                    "output_type": "display_data",
                    "data": {
                        "text/html": "Total execution time: 00:00:00.099"
                    },
                    "metadata": {}
                },
                {
                    "output_type": "execute_result",
                    "execution_count": 54,
                    "data": {
                        "application/vnd.dataresource+json": {
                            "schema": {
                                "fields": [
                                    {
                                        "name": "EmployeeID"
                                    },
                                    {
                                        "name": "FirstName"
                                    },
                                    {
                                        "name": "LastName"
                                    },
                                    {
                                        "name": "Age"
                                    },
                                    {
                                        "name": "Gender"
                                    }
                                ]
                            },
                            "data": []
                        },
                        "text/html": "<table><tr><th>EmployeeID</th><th>FirstName</th><th>LastName</th><th>Age</th><th>Gender</th></tr></table>"
                    },
                    "metadata": {}
                }
            ],
            "execution_count": 54
        },
        {
            "cell_type": "code",
            "source": [
                "SELECT *\r\n",
                "FROM EmployeeDemographics\r\n",
                "WHERE LastName in('Pal','Mark')"
            ],
            "metadata": {
                "azdata_cell_guid": "9e8d385d-824f-48a1-9102-8673bb7aa67e"
            },
            "outputs": [
                {
                    "output_type": "display_data",
                    "data": {
                        "text/html": "(3 rows affected)"
                    },
                    "metadata": {}
                },
                {
                    "output_type": "display_data",
                    "data": {
                        "text/html": "Total execution time: 00:00:00.030"
                    },
                    "metadata": {}
                },
                {
                    "output_type": "execute_result",
                    "execution_count": 55,
                    "data": {
                        "application/vnd.dataresource+json": {
                            "schema": {
                                "fields": [
                                    {
                                        "name": "EmployeeID"
                                    },
                                    {
                                        "name": "FirstName"
                                    },
                                    {
                                        "name": "LastName"
                                    },
                                    {
                                        "name": "Age"
                                    },
                                    {
                                        "name": "Gender"
                                    }
                                ]
                            },
                            "data": [
                                {
                                    "0": "1002",
                                    "1": "John",
                                    "2": "Mark",
                                    "3": "35",
                                    "4": "Male"
                                },
                                {
                                    "0": "1004",
                                    "1": "Harry",
                                    "2": "pal",
                                    "3": "36",
                                    "4": "Male"
                                },
                                {
                                    "0": "1006",
                                    "1": "Harry",
                                    "2": "pal",
                                    "3": "36",
                                    "4": "Male"
                                }
                            ]
                        },
                        "text/html": "<table><tr><th>EmployeeID</th><th>FirstName</th><th>LastName</th><th>Age</th><th>Gender</th></tr><tr><td>1002</td><td>John</td><td>Mark</td><td>35</td><td>Male</td></tr><tr><td>1004</td><td>Harry</td><td>pal</td><td>36</td><td>Male</td></tr><tr><td>1006</td><td>Harry</td><td>pal</td><td>36</td><td>Male</td></tr></table>"
                    },
                    "metadata": {}
                }
            ],
            "execution_count": 55
        },
        {
            "cell_type": "markdown",
            "source": [
                "## **GROUP BY and ORDER BY**"
            ],
            "metadata": {
                "azdata_cell_guid": "53705187-7d1c-491f-a68e-411206287b92"
            }
        },
        {
            "cell_type": "markdown",
            "source": [
                "### \n",
                "\n",
                "- **GROUP BY** used group  unique value  with respect to other field like(age in our case)\n",
                "- **ORDER BY** used to arrange value acc. to Ascending order **(ASC)** which is by default and decending order **(DESC)**"
            ],
            "metadata": {
                "azdata_cell_guid": "60505cef-a629-4db9-a555-50595d234077"
            }
        },
        {
            "cell_type": "code",
            "source": [
                "SELECT Gender\r\n",
                "FROM EmployeeDemographics\r\n",
                "GROUP BY Gender"
            ],
            "metadata": {
                "azdata_cell_guid": "9c1d2653-ae6a-4aab-b335-b01e66b6123c"
            },
            "outputs": [
                {
                    "output_type": "display_data",
                    "data": {
                        "text/html": "(2 rows affected)"
                    },
                    "metadata": {}
                },
                {
                    "output_type": "display_data",
                    "data": {
                        "text/html": "Total execution time: 00:00:03.247"
                    },
                    "metadata": {}
                },
                {
                    "output_type": "execute_result",
                    "execution_count": 1,
                    "data": {
                        "application/vnd.dataresource+json": {
                            "schema": {
                                "fields": [
                                    {
                                        "name": "Gender"
                                    }
                                ]
                            },
                            "data": [
                                {
                                    "0": "Female"
                                },
                                {
                                    "0": "Male"
                                }
                            ]
                        },
                        "text/html": "<table><tr><th>Gender</th></tr><tr><td>Female</td></tr><tr><td>Male</td></tr></table>"
                    },
                    "metadata": {}
                }
            ],
            "execution_count": 1
        },
        {
            "cell_type": "code",
            "source": [
                "SELECT Gender ,COUNT(Gender)\r\n",
                "FROM EmployeeDemographics\r\n",
                "GROUP BY Gender"
            ],
            "metadata": {
                "azdata_cell_guid": "aff338be-40fc-4569-a7d4-d5f9f8f5760e"
            },
            "outputs": [
                {
                    "output_type": "display_data",
                    "data": {
                        "text/html": "(2 rows affected)"
                    },
                    "metadata": {}
                },
                {
                    "output_type": "display_data",
                    "data": {
                        "text/html": "Total execution time: 00:00:00.094"
                    },
                    "metadata": {}
                },
                {
                    "output_type": "execute_result",
                    "execution_count": 2,
                    "data": {
                        "application/vnd.dataresource+json": {
                            "schema": {
                                "fields": [
                                    {
                                        "name": "Gender"
                                    },
                                    {
                                        "name": "(No column name)"
                                    }
                                ]
                            },
                            "data": [
                                {
                                    "0": "Female",
                                    "1": "2"
                                },
                                {
                                    "0": "Male",
                                    "1": "7"
                                }
                            ]
                        },
                        "text/html": "<table><tr><th>Gender</th><th>(No column name)</th></tr><tr><td>Female</td><td>2</td></tr><tr><td>Male</td><td>7</td></tr></table>"
                    },
                    "metadata": {}
                }
            ],
            "execution_count": 2
        },
        {
            "cell_type": "code",
            "source": [
                "SELECT Gender ,Age,COUNT(Gender) AS 'Gender_count_by_age'\r\n",
                "FROM EmployeeDemographics\r\n",
                "GROUP BY Gender ,Age"
            ],
            "metadata": {
                "azdata_cell_guid": "0be8b4de-ac37-42d5-aeed-1fc2369f5b45"
            },
            "outputs": [
                {
                    "output_type": "display_data",
                    "data": {
                        "text/html": "(7 rows affected)"
                    },
                    "metadata": {}
                },
                {
                    "output_type": "display_data",
                    "data": {
                        "text/html": "Total execution time: 00:00:01.313"
                    },
                    "metadata": {}
                },
                {
                    "output_type": "execute_result",
                    "execution_count": 6,
                    "data": {
                        "application/vnd.dataresource+json": {
                            "schema": {
                                "fields": [
                                    {
                                        "name": "Gender"
                                    },
                                    {
                                        "name": "Age"
                                    },
                                    {
                                        "name": "Gender_count_by_age"
                                    }
                                ]
                            },
                            "data": [
                                {
                                    "0": "Female",
                                    "1": "28",
                                    "2": "1"
                                },
                                {
                                    "0": "Male",
                                    "1": "31",
                                    "2": "1"
                                },
                                {
                                    "0": "Female",
                                    "1": "32",
                                    "2": "1"
                                },
                                {
                                    "0": "Male",
                                    "1": "32",
                                    "2": "1"
                                },
                                {
                                    "0": "Male",
                                    "1": "35",
                                    "2": "1"
                                },
                                {
                                    "0": "Male",
                                    "1": "36",
                                    "2": "2"
                                },
                                {
                                    "0": "Male",
                                    "1": "38",
                                    "2": "2"
                                }
                            ]
                        },
                        "text/html": "<table><tr><th>Gender</th><th>Age</th><th>Gender_count_by_age</th></tr><tr><td>Female</td><td>28</td><td>1</td></tr><tr><td>Male</td><td>31</td><td>1</td></tr><tr><td>Female</td><td>32</td><td>1</td></tr><tr><td>Male</td><td>32</td><td>1</td></tr><tr><td>Male</td><td>35</td><td>1</td></tr><tr><td>Male</td><td>36</td><td>2</td></tr><tr><td>Male</td><td>38</td><td>2</td></tr></table>"
                    },
                    "metadata": {}
                }
            ],
            "execution_count": 6
        },
        {
            "cell_type": "code",
            "source": [
                "SELECT Gender ,COUNT(Gender) AS 'Gender_count_by_age'\r\n",
                "FROM EmployeeDemographics\r\n",
                "WHERE Age > 32\r\n",
                "GROUP BY Gender \r\n",
                "/*******************************************************************************************************/\r\n",
                "SELECT*FROM EmployeeDemographics"
            ],
            "metadata": {
                "azdata_cell_guid": "47aed1e3-2173-4a24-8b4b-7681bb9f4c2e"
            },
            "outputs": [
                {
                    "output_type": "display_data",
                    "data": {
                        "text/html": "(1 row affected)"
                    },
                    "metadata": {}
                },
                {
                    "output_type": "display_data",
                    "data": {
                        "text/html": "(9 rows affected)"
                    },
                    "metadata": {}
                },
                {
                    "output_type": "display_data",
                    "data": {
                        "text/html": "Total execution time: 00:00:00.036"
                    },
                    "metadata": {}
                },
                {
                    "output_type": "execute_result",
                    "execution_count": 10,
                    "data": {
                        "application/vnd.dataresource+json": {
                            "schema": {
                                "fields": [
                                    {
                                        "name": "Gender"
                                    },
                                    {
                                        "name": "Gender_count_by_age"
                                    }
                                ]
                            },
                            "data": [
                                {
                                    "0": "Male",
                                    "1": "5"
                                }
                            ]
                        },
                        "text/html": "<table><tr><th>Gender</th><th>Gender_count_by_age</th></tr><tr><td>Male</td><td>5</td></tr></table>"
                    },
                    "metadata": {}
                },
                {
                    "output_type": "execute_result",
                    "execution_count": 10,
                    "data": {
                        "application/vnd.dataresource+json": {
                            "schema": {
                                "fields": [
                                    {
                                        "name": "EmployeeID"
                                    },
                                    {
                                        "name": "FirstName"
                                    },
                                    {
                                        "name": "LastName"
                                    },
                                    {
                                        "name": "Age"
                                    },
                                    {
                                        "name": "Gender"
                                    }
                                ]
                            },
                            "data": [
                                {
                                    "0": "1001",
                                    "1": "Jim",
                                    "2": "Harin",
                                    "3": "32",
                                    "4": "Male"
                                },
                                {
                                    "0": "1002",
                                    "1": "John",
                                    "2": "Mark",
                                    "3": "35",
                                    "4": "Male"
                                },
                                {
                                    "0": "1003",
                                    "1": "Riya",
                                    "2": "Ray",
                                    "3": "28",
                                    "4": "Female"
                                },
                                {
                                    "0": "1004",
                                    "1": "Harry",
                                    "2": "pal",
                                    "3": "36",
                                    "4": "Male"
                                },
                                {
                                    "0": "1005",
                                    "1": "Ram",
                                    "2": "Singh",
                                    "3": "38",
                                    "4": "Male"
                                },
                                {
                                    "0": "1006",
                                    "1": "Harry",
                                    "2": "pal",
                                    "3": "36",
                                    "4": "Male"
                                },
                                {
                                    "0": "1007",
                                    "1": "Meredith",
                                    "2": "Palmer",
                                    "3": "32",
                                    "4": "Female"
                                },
                                {
                                    "0": "1008",
                                    "1": "Stanley",
                                    "2": "Hudson",
                                    "3": "38",
                                    "4": "Male"
                                },
                                {
                                    "0": "1009",
                                    "1": "Kevin",
                                    "2": "Malone",
                                    "3": "31",
                                    "4": "Male"
                                }
                            ]
                        },
                        "text/html": "<table><tr><th>EmployeeID</th><th>FirstName</th><th>LastName</th><th>Age</th><th>Gender</th></tr><tr><td>1001</td><td>Jim</td><td>Harin</td><td>32</td><td>Male</td></tr><tr><td>1002</td><td>John</td><td>Mark</td><td>35</td><td>Male</td></tr><tr><td>1003</td><td>Riya</td><td>Ray</td><td>28</td><td>Female</td></tr><tr><td>1004</td><td>Harry</td><td>pal</td><td>36</td><td>Male</td></tr><tr><td>1005</td><td>Ram</td><td>Singh</td><td>38</td><td>Male</td></tr><tr><td>1006</td><td>Harry</td><td>pal</td><td>36</td><td>Male</td></tr><tr><td>1007</td><td>Meredith</td><td>Palmer</td><td>32</td><td>Female</td></tr><tr><td>1008</td><td>Stanley</td><td>Hudson</td><td>38</td><td>Male</td></tr><tr><td>1009</td><td>Kevin</td><td>Malone</td><td>31</td><td>Male</td></tr></table>"
                    },
                    "metadata": {}
                }
            ],
            "execution_count": 10
        },
        {
            "cell_type": "code",
            "source": [
                "SELECT Gender,Age,COUNT(Gender) AS 'Gender_count_by_age'\r\n",
                "FROM EmployeeDemographics\r\n",
                "WHERE Age >32\r\n",
                "GROUP BY Gender ,Age\r\n",
                "ORDER BY Gender_count_by_age DESC\r\n",
                ""
            ],
            "metadata": {
                "azdata_cell_guid": "8c034579-2589-4e62-9477-06f7cf4b8677"
            },
            "outputs": [
                {
                    "output_type": "display_data",
                    "data": {
                        "text/html": "(3 rows affected)"
                    },
                    "metadata": {}
                },
                {
                    "output_type": "display_data",
                    "data": {
                        "text/html": "Total execution time: 00:00:00.080"
                    },
                    "metadata": {}
                },
                {
                    "output_type": "execute_result",
                    "execution_count": 19,
                    "data": {
                        "application/vnd.dataresource+json": {
                            "schema": {
                                "fields": [
                                    {
                                        "name": "Gender"
                                    },
                                    {
                                        "name": "Age"
                                    },
                                    {
                                        "name": "Gender_count_by_age"
                                    }
                                ]
                            },
                            "data": [
                                {
                                    "0": "Male",
                                    "1": "36",
                                    "2": "2"
                                },
                                {
                                    "0": "Male",
                                    "1": "38",
                                    "2": "2"
                                },
                                {
                                    "0": "Male",
                                    "1": "35",
                                    "2": "1"
                                }
                            ]
                        },
                        "text/html": "<table><tr><th>Gender</th><th>Age</th><th>Gender_count_by_age</th></tr><tr><td>Male</td><td>36</td><td>2</td></tr><tr><td>Male</td><td>38</td><td>2</td></tr><tr><td>Male</td><td>35</td><td>1</td></tr></table>"
                    },
                    "metadata": {}
                }
            ],
            "execution_count": 19
        },
        {
            "cell_type": "code",
            "source": [
                "SELECT Gender,Age,COUNT(Gender) AS 'Gender_count_by_age'\r\n",
                "FROM EmployeeDemographics\r\n",
                "WHERE Age >30\r\n",
                "GROUP BY Gender ,Age\r\n",
                "ORDER BY Gender_count_by_age ASC"
            ],
            "metadata": {
                "azdata_cell_guid": "955ae126-547a-4eec-b627-6450c5d29d1b"
            },
            "outputs": [
                {
                    "output_type": "display_data",
                    "data": {
                        "text/html": "(6 rows affected)"
                    },
                    "metadata": {}
                },
                {
                    "output_type": "display_data",
                    "data": {
                        "text/html": "Total execution time: 00:00:00.075"
                    },
                    "metadata": {}
                },
                {
                    "output_type": "execute_result",
                    "execution_count": 26,
                    "data": {
                        "application/vnd.dataresource+json": {
                            "schema": {
                                "fields": [
                                    {
                                        "name": "Gender"
                                    },
                                    {
                                        "name": "Age"
                                    },
                                    {
                                        "name": "Gender_count_by_age"
                                    }
                                ]
                            },
                            "data": [
                                {
                                    "0": "Male",
                                    "1": "31",
                                    "2": "1"
                                },
                                {
                                    "0": "Female",
                                    "1": "32",
                                    "2": "1"
                                },
                                {
                                    "0": "Male",
                                    "1": "32",
                                    "2": "1"
                                },
                                {
                                    "0": "Male",
                                    "1": "35",
                                    "2": "1"
                                },
                                {
                                    "0": "Male",
                                    "1": "36",
                                    "2": "2"
                                },
                                {
                                    "0": "Male",
                                    "1": "38",
                                    "2": "2"
                                }
                            ]
                        },
                        "text/html": "<table><tr><th>Gender</th><th>Age</th><th>Gender_count_by_age</th></tr><tr><td>Male</td><td>31</td><td>1</td></tr><tr><td>Female</td><td>32</td><td>1</td></tr><tr><td>Male</td><td>32</td><td>1</td></tr><tr><td>Male</td><td>35</td><td>1</td></tr><tr><td>Male</td><td>36</td><td>2</td></tr><tr><td>Male</td><td>38</td><td>2</td></tr></table>"
                    },
                    "metadata": {}
                }
            ],
            "execution_count": 26
        },
        {
            "cell_type": "code",
            "source": [
                "SELECT * FROM EmployeeDemographics\r\n",
                "ORDER BY Age \r\n",
                "\r\n",
                "SELECT * FROM EmployeeDemographics\r\n",
                "ORDER BY Age DESC"
            ],
            "metadata": {
                "azdata_cell_guid": "15ee6a95-8593-425f-8a5d-80ba7f075cca"
            },
            "outputs": [
                {
                    "output_type": "display_data",
                    "data": {
                        "text/html": "(9 rows affected)"
                    },
                    "metadata": {}
                },
                {
                    "output_type": "display_data",
                    "data": {
                        "text/html": "(9 rows affected)"
                    },
                    "metadata": {}
                },
                {
                    "output_type": "display_data",
                    "data": {
                        "text/html": "Total execution time: 00:00:00.012"
                    },
                    "metadata": {}
                },
                {
                    "output_type": "execute_result",
                    "execution_count": 28,
                    "data": {
                        "application/vnd.dataresource+json": {
                            "schema": {
                                "fields": [
                                    {
                                        "name": "EmployeeID"
                                    },
                                    {
                                        "name": "FirstName"
                                    },
                                    {
                                        "name": "LastName"
                                    },
                                    {
                                        "name": "Age"
                                    },
                                    {
                                        "name": "Gender"
                                    }
                                ]
                            },
                            "data": [
                                {
                                    "0": "1003",
                                    "1": "Riya",
                                    "2": "Ray",
                                    "3": "28",
                                    "4": "Female"
                                },
                                {
                                    "0": "1009",
                                    "1": "Kevin",
                                    "2": "Malone",
                                    "3": "31",
                                    "4": "Male"
                                },
                                {
                                    "0": "1007",
                                    "1": "Meredith",
                                    "2": "Palmer",
                                    "3": "32",
                                    "4": "Female"
                                },
                                {
                                    "0": "1001",
                                    "1": "Jim",
                                    "2": "Harin",
                                    "3": "32",
                                    "4": "Male"
                                },
                                {
                                    "0": "1002",
                                    "1": "John",
                                    "2": "Mark",
                                    "3": "35",
                                    "4": "Male"
                                },
                                {
                                    "0": "1004",
                                    "1": "Harry",
                                    "2": "pal",
                                    "3": "36",
                                    "4": "Male"
                                },
                                {
                                    "0": "1006",
                                    "1": "Harry",
                                    "2": "pal",
                                    "3": "36",
                                    "4": "Male"
                                },
                                {
                                    "0": "1008",
                                    "1": "Stanley",
                                    "2": "Hudson",
                                    "3": "38",
                                    "4": "Male"
                                },
                                {
                                    "0": "1005",
                                    "1": "Ram",
                                    "2": "Singh",
                                    "3": "38",
                                    "4": "Male"
                                }
                            ]
                        },
                        "text/html": "<table><tr><th>EmployeeID</th><th>FirstName</th><th>LastName</th><th>Age</th><th>Gender</th></tr><tr><td>1003</td><td>Riya</td><td>Ray</td><td>28</td><td>Female</td></tr><tr><td>1009</td><td>Kevin</td><td>Malone</td><td>31</td><td>Male</td></tr><tr><td>1007</td><td>Meredith</td><td>Palmer</td><td>32</td><td>Female</td></tr><tr><td>1001</td><td>Jim</td><td>Harin</td><td>32</td><td>Male</td></tr><tr><td>1002</td><td>John</td><td>Mark</td><td>35</td><td>Male</td></tr><tr><td>1004</td><td>Harry</td><td>pal</td><td>36</td><td>Male</td></tr><tr><td>1006</td><td>Harry</td><td>pal</td><td>36</td><td>Male</td></tr><tr><td>1008</td><td>Stanley</td><td>Hudson</td><td>38</td><td>Male</td></tr><tr><td>1005</td><td>Ram</td><td>Singh</td><td>38</td><td>Male</td></tr></table>"
                    },
                    "metadata": {}
                },
                {
                    "output_type": "execute_result",
                    "execution_count": 28,
                    "data": {
                        "application/vnd.dataresource+json": {
                            "schema": {
                                "fields": [
                                    {
                                        "name": "EmployeeID"
                                    },
                                    {
                                        "name": "FirstName"
                                    },
                                    {
                                        "name": "LastName"
                                    },
                                    {
                                        "name": "Age"
                                    },
                                    {
                                        "name": "Gender"
                                    }
                                ]
                            },
                            "data": [
                                {
                                    "0": "1005",
                                    "1": "Ram",
                                    "2": "Singh",
                                    "3": "38",
                                    "4": "Male"
                                },
                                {
                                    "0": "1008",
                                    "1": "Stanley",
                                    "2": "Hudson",
                                    "3": "38",
                                    "4": "Male"
                                },
                                {
                                    "0": "1006",
                                    "1": "Harry",
                                    "2": "pal",
                                    "3": "36",
                                    "4": "Male"
                                },
                                {
                                    "0": "1004",
                                    "1": "Harry",
                                    "2": "pal",
                                    "3": "36",
                                    "4": "Male"
                                },
                                {
                                    "0": "1002",
                                    "1": "John",
                                    "2": "Mark",
                                    "3": "35",
                                    "4": "Male"
                                },
                                {
                                    "0": "1001",
                                    "1": "Jim",
                                    "2": "Harin",
                                    "3": "32",
                                    "4": "Male"
                                },
                                {
                                    "0": "1007",
                                    "1": "Meredith",
                                    "2": "Palmer",
                                    "3": "32",
                                    "4": "Female"
                                },
                                {
                                    "0": "1009",
                                    "1": "Kevin",
                                    "2": "Malone",
                                    "3": "31",
                                    "4": "Male"
                                },
                                {
                                    "0": "1003",
                                    "1": "Riya",
                                    "2": "Ray",
                                    "3": "28",
                                    "4": "Female"
                                }
                            ]
                        },
                        "text/html": "<table><tr><th>EmployeeID</th><th>FirstName</th><th>LastName</th><th>Age</th><th>Gender</th></tr><tr><td>1005</td><td>Ram</td><td>Singh</td><td>38</td><td>Male</td></tr><tr><td>1008</td><td>Stanley</td><td>Hudson</td><td>38</td><td>Male</td></tr><tr><td>1006</td><td>Harry</td><td>pal</td><td>36</td><td>Male</td></tr><tr><td>1004</td><td>Harry</td><td>pal</td><td>36</td><td>Male</td></tr><tr><td>1002</td><td>John</td><td>Mark</td><td>35</td><td>Male</td></tr><tr><td>1001</td><td>Jim</td><td>Harin</td><td>32</td><td>Male</td></tr><tr><td>1007</td><td>Meredith</td><td>Palmer</td><td>32</td><td>Female</td></tr><tr><td>1009</td><td>Kevin</td><td>Malone</td><td>31</td><td>Male</td></tr><tr><td>1003</td><td>Riya</td><td>Ray</td><td>28</td><td>Female</td></tr></table>"
                    },
                    "metadata": {}
                }
            ],
            "execution_count": 28
        },
        {
            "cell_type": "code",
            "source": [
                "SELECT * FROM EmployeeDemographics\r\n",
                "ORDER BY FirstName "
            ],
            "metadata": {
                "azdata_cell_guid": "e93fccac-5bb4-4f50-9ba8-0298a667034f"
            },
            "outputs": [
                {
                    "output_type": "display_data",
                    "data": {
                        "text/html": "(9 rows affected)"
                    },
                    "metadata": {}
                },
                {
                    "output_type": "display_data",
                    "data": {
                        "text/html": "Total execution time: 00:00:00.055"
                    },
                    "metadata": {}
                },
                {
                    "output_type": "execute_result",
                    "execution_count": 33,
                    "data": {
                        "application/vnd.dataresource+json": {
                            "schema": {
                                "fields": [
                                    {
                                        "name": "EmployeeID"
                                    },
                                    {
                                        "name": "FirstName"
                                    },
                                    {
                                        "name": "LastName"
                                    },
                                    {
                                        "name": "Age"
                                    },
                                    {
                                        "name": "Gender"
                                    }
                                ]
                            },
                            "data": [
                                {
                                    "0": "1004",
                                    "1": "Harry",
                                    "2": "pal",
                                    "3": "36",
                                    "4": "Male"
                                },
                                {
                                    "0": "1006",
                                    "1": "Harry",
                                    "2": "pal",
                                    "3": "36",
                                    "4": "Male"
                                },
                                {
                                    "0": "1001",
                                    "1": "Jim",
                                    "2": "Harin",
                                    "3": "32",
                                    "4": "Male"
                                },
                                {
                                    "0": "1002",
                                    "1": "John",
                                    "2": "Mark",
                                    "3": "35",
                                    "4": "Male"
                                },
                                {
                                    "0": "1009",
                                    "1": "Kevin",
                                    "2": "Malone",
                                    "3": "31",
                                    "4": "Male"
                                },
                                {
                                    "0": "1007",
                                    "1": "Meredith",
                                    "2": "Palmer",
                                    "3": "32",
                                    "4": "Female"
                                },
                                {
                                    "0": "1005",
                                    "1": "Ram",
                                    "2": "Singh",
                                    "3": "38",
                                    "4": "Male"
                                },
                                {
                                    "0": "1003",
                                    "1": "Riya",
                                    "2": "Ray",
                                    "3": "28",
                                    "4": "Female"
                                },
                                {
                                    "0": "1008",
                                    "1": "Stanley",
                                    "2": "Hudson",
                                    "3": "38",
                                    "4": "Male"
                                }
                            ]
                        },
                        "text/html": "<table><tr><th>EmployeeID</th><th>FirstName</th><th>LastName</th><th>Age</th><th>Gender</th></tr><tr><td>1004</td><td>Harry</td><td>pal</td><td>36</td><td>Male</td></tr><tr><td>1006</td><td>Harry</td><td>pal</td><td>36</td><td>Male</td></tr><tr><td>1001</td><td>Jim</td><td>Harin</td><td>32</td><td>Male</td></tr><tr><td>1002</td><td>John</td><td>Mark</td><td>35</td><td>Male</td></tr><tr><td>1009</td><td>Kevin</td><td>Malone</td><td>31</td><td>Male</td></tr><tr><td>1007</td><td>Meredith</td><td>Palmer</td><td>32</td><td>Female</td></tr><tr><td>1005</td><td>Ram</td><td>Singh</td><td>38</td><td>Male</td></tr><tr><td>1003</td><td>Riya</td><td>Ray</td><td>28</td><td>Female</td></tr><tr><td>1008</td><td>Stanley</td><td>Hudson</td><td>38</td><td>Male</td></tr></table>"
                    },
                    "metadata": {}
                }
            ],
            "execution_count": 33
        },
        {
            "cell_type": "code",
            "source": [
                "SELECT * FROM EmployeeDemographics\r\n",
                "ORDER BY Age DESC ,Gender DESC\r\n",
                "\r\n",
                "SELECT * FROM EmployeeDemographics\r\n",
                "ORDER BY 4 DESC ,5 DESC"
            ],
            "metadata": {
                "azdata_cell_guid": "44cddfca-9241-405f-a0e3-fbdf5e9c3d41"
            },
            "outputs": [
                {
                    "output_type": "display_data",
                    "data": {
                        "text/html": "(9 rows affected)"
                    },
                    "metadata": {}
                },
                {
                    "output_type": "display_data",
                    "data": {
                        "text/html": "(9 rows affected)"
                    },
                    "metadata": {}
                },
                {
                    "output_type": "display_data",
                    "data": {
                        "text/html": "Total execution time: 00:00:00.051"
                    },
                    "metadata": {}
                },
                {
                    "output_type": "execute_result",
                    "execution_count": 35,
                    "data": {
                        "application/vnd.dataresource+json": {
                            "schema": {
                                "fields": [
                                    {
                                        "name": "EmployeeID"
                                    },
                                    {
                                        "name": "FirstName"
                                    },
                                    {
                                        "name": "LastName"
                                    },
                                    {
                                        "name": "Age"
                                    },
                                    {
                                        "name": "Gender"
                                    }
                                ]
                            },
                            "data": [
                                {
                                    "0": "1005",
                                    "1": "Ram",
                                    "2": "Singh",
                                    "3": "38",
                                    "4": "Male"
                                },
                                {
                                    "0": "1008",
                                    "1": "Stanley",
                                    "2": "Hudson",
                                    "3": "38",
                                    "4": "Male"
                                },
                                {
                                    "0": "1006",
                                    "1": "Harry",
                                    "2": "pal",
                                    "3": "36",
                                    "4": "Male"
                                },
                                {
                                    "0": "1004",
                                    "1": "Harry",
                                    "2": "pal",
                                    "3": "36",
                                    "4": "Male"
                                },
                                {
                                    "0": "1002",
                                    "1": "John",
                                    "2": "Mark",
                                    "3": "35",
                                    "4": "Male"
                                },
                                {
                                    "0": "1001",
                                    "1": "Jim",
                                    "2": "Harin",
                                    "3": "32",
                                    "4": "Male"
                                },
                                {
                                    "0": "1007",
                                    "1": "Meredith",
                                    "2": "Palmer",
                                    "3": "32",
                                    "4": "Female"
                                },
                                {
                                    "0": "1009",
                                    "1": "Kevin",
                                    "2": "Malone",
                                    "3": "31",
                                    "4": "Male"
                                },
                                {
                                    "0": "1003",
                                    "1": "Riya",
                                    "2": "Ray",
                                    "3": "28",
                                    "4": "Female"
                                }
                            ]
                        },
                        "text/html": "<table><tr><th>EmployeeID</th><th>FirstName</th><th>LastName</th><th>Age</th><th>Gender</th></tr><tr><td>1005</td><td>Ram</td><td>Singh</td><td>38</td><td>Male</td></tr><tr><td>1008</td><td>Stanley</td><td>Hudson</td><td>38</td><td>Male</td></tr><tr><td>1006</td><td>Harry</td><td>pal</td><td>36</td><td>Male</td></tr><tr><td>1004</td><td>Harry</td><td>pal</td><td>36</td><td>Male</td></tr><tr><td>1002</td><td>John</td><td>Mark</td><td>35</td><td>Male</td></tr><tr><td>1001</td><td>Jim</td><td>Harin</td><td>32</td><td>Male</td></tr><tr><td>1007</td><td>Meredith</td><td>Palmer</td><td>32</td><td>Female</td></tr><tr><td>1009</td><td>Kevin</td><td>Malone</td><td>31</td><td>Male</td></tr><tr><td>1003</td><td>Riya</td><td>Ray</td><td>28</td><td>Female</td></tr></table>"
                    },
                    "metadata": {}
                },
                {
                    "output_type": "execute_result",
                    "execution_count": 35,
                    "data": {
                        "application/vnd.dataresource+json": {
                            "schema": {
                                "fields": [
                                    {
                                        "name": "EmployeeID"
                                    },
                                    {
                                        "name": "FirstName"
                                    },
                                    {
                                        "name": "LastName"
                                    },
                                    {
                                        "name": "Age"
                                    },
                                    {
                                        "name": "Gender"
                                    }
                                ]
                            },
                            "data": [
                                {
                                    "0": "1005",
                                    "1": "Ram",
                                    "2": "Singh",
                                    "3": "38",
                                    "4": "Male"
                                },
                                {
                                    "0": "1008",
                                    "1": "Stanley",
                                    "2": "Hudson",
                                    "3": "38",
                                    "4": "Male"
                                },
                                {
                                    "0": "1006",
                                    "1": "Harry",
                                    "2": "pal",
                                    "3": "36",
                                    "4": "Male"
                                },
                                {
                                    "0": "1004",
                                    "1": "Harry",
                                    "2": "pal",
                                    "3": "36",
                                    "4": "Male"
                                },
                                {
                                    "0": "1002",
                                    "1": "John",
                                    "2": "Mark",
                                    "3": "35",
                                    "4": "Male"
                                },
                                {
                                    "0": "1001",
                                    "1": "Jim",
                                    "2": "Harin",
                                    "3": "32",
                                    "4": "Male"
                                },
                                {
                                    "0": "1007",
                                    "1": "Meredith",
                                    "2": "Palmer",
                                    "3": "32",
                                    "4": "Female"
                                },
                                {
                                    "0": "1009",
                                    "1": "Kevin",
                                    "2": "Malone",
                                    "3": "31",
                                    "4": "Male"
                                },
                                {
                                    "0": "1003",
                                    "1": "Riya",
                                    "2": "Ray",
                                    "3": "28",
                                    "4": "Female"
                                }
                            ]
                        },
                        "text/html": "<table><tr><th>EmployeeID</th><th>FirstName</th><th>LastName</th><th>Age</th><th>Gender</th></tr><tr><td>1005</td><td>Ram</td><td>Singh</td><td>38</td><td>Male</td></tr><tr><td>1008</td><td>Stanley</td><td>Hudson</td><td>38</td><td>Male</td></tr><tr><td>1006</td><td>Harry</td><td>pal</td><td>36</td><td>Male</td></tr><tr><td>1004</td><td>Harry</td><td>pal</td><td>36</td><td>Male</td></tr><tr><td>1002</td><td>John</td><td>Mark</td><td>35</td><td>Male</td></tr><tr><td>1001</td><td>Jim</td><td>Harin</td><td>32</td><td>Male</td></tr><tr><td>1007</td><td>Meredith</td><td>Palmer</td><td>32</td><td>Female</td></tr><tr><td>1009</td><td>Kevin</td><td>Malone</td><td>31</td><td>Male</td></tr><tr><td>1003</td><td>Riya</td><td>Ray</td><td>28</td><td>Female</td></tr></table>"
                    },
                    "metadata": {}
                }
            ],
            "execution_count": 35
        }
    ]
}