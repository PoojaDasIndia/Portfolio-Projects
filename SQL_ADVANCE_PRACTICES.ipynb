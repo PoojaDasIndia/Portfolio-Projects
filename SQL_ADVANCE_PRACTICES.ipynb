{
    "metadata": {
        "kernelspec": {
            "name": "SQL",
            "display_name": "SQL",
            "language": "sql"
        },
        "language_info": {
            "name": "sql",
            "version": ""
        }
    },
    "nbformat_minor": 2,
    "nbformat": 4,
    "cells": [
        {
            "cell_type": "markdown",
            "source": [
                "# **/\\*\\*\\*\\*\\*\\*\\*\\*\\*\\*\\*\\*\\*\\*\\*\\*\\*\\*\\*\\*\\*\\*\\*\\*\\*\\*\\*\\*\\*\\*\\*\\*\\* ADVANCE SQL\\*\\*\\*\\*\\*\\*\\*\\*\\*\\*\\*\\*\\*\\*\\*\\*\\*\\*\\*\\*\\*\\*\\*\\*\\*\\*\\*\\*\\*\\*\\*\\*\\*\\*\\*\\*\\*\\*\\*\\*\\*/**"
            ],
            "metadata": {
                "azdata_cell_guid": "1696e733-38fb-4d4b-ac1f-fb580cad1910"
            }
        },
        {
            "cell_type": "markdown",
            "source": [
                "# /\\*\\*\\*\\*\\*\\*\\*\\*\\*\\*\\*\\*\\*\\*\\*\\*\\*\\*\\*\\*\\* CTE (Common Table Expression)\\*\\*\\*\\*\\*\\*\\*\\*\\*\\*\\*\\*\\*\\*\\*\\*\\*\\*\\*\\*\\*\\*\\*\\*\\*\\*\\*\\*\\*/"
            ],
            "metadata": {
                "azdata_cell_guid": "6ea7c37d-2c9c-4f79-8beb-5a222a611465"
            }
        },
        {
            "cell_type": "markdown",
            "source": [
                "# <span style=\"color: white; font-family: &quot;Segoe UI&quot;, Tahoma, Arial;\"><b>A Common Table Expression, also called as CTE in short form, is a temporary named result set that you can reference within a SELECT, INSERT, UPDATE, or DELETE statement.</b>&nbsp;</span>"
            ],
            "metadata": {
                "azdata_cell_guid": "a203b3f2-7ccd-4dd3-bc4e-41a819dad902"
            }
        },
        {
            "cell_type": "code",
            "source": [
                "WITH CTE_Employee AS\r\n",
                "(SELECT FirstName,LastName,Gender,Salary,\r\n",
                "COUNT(Gender) OVER (PARTITION BY Gender) AS TOTAL_GENDER,\r\n",
                "AVG(Salary) OVER (PARTITION BY Gender) AS Average_Salary\r\n",
                "FROM EmployeeDemographics\r\n",
                "JOIN EmployeeSalary\r\n",
                "ON EmployeeDemographics.EmployeeID=EmployeeSalary.EmployeeID\r\n",
                "WHERE Salary> 45000\r\n",
                ")\r\n",
                "SELECT FirstName,Average_Salary\r\n",
                "FROM CTE_Employee\r\n",
                ""
            ],
            "metadata": {
                "azdata_cell_guid": "14fd6488-84a5-4839-8d10-f27f72eaaa5b"
            },
            "outputs": [
                {
                    "output_type": "display_data",
                    "data": {
                        "text/html": "(6 rows affected)"
                    },
                    "metadata": {}
                },
                {
                    "output_type": "display_data",
                    "data": {
                        "text/html": "Total execution time: 00:00:01.990"
                    },
                    "metadata": {}
                },
                {
                    "output_type": "execute_result",
                    "execution_count": 1,
                    "data": {
                        "application/vnd.dataresource+json": {
                            "schema": {
                                "fields": [
                                    {
                                        "name": "FirstName"
                                    },
                                    {
                                        "name": "Average_Salary"
                                    }
                                ]
                            },
                            "data": [
                                {
                                    "0": "Riya",
                                    "1": "57500"
                                },
                                {
                                    "0": "Reema",
                                    "1": "57500"
                                },
                                {
                                    "0": "Stanley",
                                    "1": "48500"
                                },
                                {
                                    "0": "Holly",
                                    "1": "48500"
                                },
                                {
                                    "0": "Harry",
                                    "1": "48500"
                                },
                                {
                                    "0": "Ram",
                                    "1": "48500"
                                }
                            ]
                        },
                        "text/html": "<table><tr><th>FirstName</th><th>Average_Salary</th></tr><tr><td>Riya</td><td>57500</td></tr><tr><td>Reema</td><td>57500</td></tr><tr><td>Stanley</td><td>48500</td></tr><tr><td>Holly</td><td>48500</td></tr><tr><td>Harry</td><td>48500</td></tr><tr><td>Ram</td><td>48500</td></tr></table>"
                    },
                    "metadata": {}
                }
            ],
            "execution_count": 1
        },
        {
            "cell_type": "markdown",
            "source": [
                "# /\\*\\*\\*\\*\\*\\*\\*\\*\\*\\*\\*\\*\\*\\*\\*\\*\\*\\*\\*\\*\\* TEMP TABLE \\*\\*\\*\\*\\*\\*\\*\\*\\*\\*\\*\\*\\*\\*\\*\\*\\*\\*\\*\\*\\*\\*\\*\\*\\*\\*\\*\\*\\*/"
            ],
            "metadata": {
                "azdata_cell_guid": "f98230c1-6a44-4fb0-8122-203ce6b14ff5"
            }
        },
        {
            "cell_type": "code",
            "source": [
                "CREATE TABLE #Temp_EmployeeSalary\r\n",
                "(\r\n",
                "EmployeeID INT,\r\n",
                "JobTitle VARCHAR(30),\r\n",
                "Salary int\r\n",
                ")\r\n",
                "\r\n",
                ""
            ],
            "metadata": {
                "azdata_cell_guid": "29e1f452-572c-4189-9924-d03c156ecb3e"
            },
            "outputs": [
                {
                    "output_type": "display_data",
                    "data": {
                        "text/html": "Commands completed successfully."
                    },
                    "metadata": {}
                },
                {
                    "output_type": "display_data",
                    "data": {
                        "text/html": "Total execution time: 00:00:00.391"
                    },
                    "metadata": {}
                }
            ],
            "execution_count": 37
        },
        {
            "cell_type": "code",
            "source": [
                "SELECT*\r\n",
                "FROM #Temp_EmployeeSalary"
            ],
            "metadata": {
                "azdata_cell_guid": "38b04d6a-1bec-4e3a-8896-fe396ca2f3ad"
            },
            "outputs": [
                {
                    "output_type": "display_data",
                    "data": {
                        "text/html": "(0 rows affected)"
                    },
                    "metadata": {}
                },
                {
                    "output_type": "display_data",
                    "data": {
                        "text/html": "Total execution time: 00:00:00.092"
                    },
                    "metadata": {}
                },
                {
                    "output_type": "execute_result",
                    "execution_count": 11,
                    "data": {
                        "application/vnd.dataresource+json": {
                            "schema": {
                                "fields": [
                                    {
                                        "name": "EmployeeID"
                                    },
                                    {
                                        "name": "JobTitle"
                                    },
                                    {
                                        "name": "Salary"
                                    }
                                ]
                            },
                            "data": []
                        },
                        "text/html": "<table><tr><th>EmployeeID</th><th>JobTitle</th><th>Salary</th></tr></table>"
                    },
                    "metadata": {}
                }
            ],
            "execution_count": 11
        },
        {
            "cell_type": "code",
            "source": [
                "INSERT INTO #Temp_EmployeeSalary VALUES\r\n",
                "(1001,'HR',45300)\r\n",
                "SELECT*\r\n",
                "FROM #Temp_EmployeeSalary"
            ],
            "metadata": {
                "azdata_cell_guid": "c0e5f74d-8ffd-46ab-917b-f7ddf5b94e7d"
            },
            "outputs": [
                {
                    "output_type": "display_data",
                    "data": {
                        "text/html": "(1 row affected)"
                    },
                    "metadata": {}
                },
                {
                    "output_type": "display_data",
                    "data": {
                        "text/html": "(1 row affected)"
                    },
                    "metadata": {}
                },
                {
                    "output_type": "display_data",
                    "data": {
                        "text/html": "Total execution time: 00:00:00.067"
                    },
                    "metadata": {}
                },
                {
                    "output_type": "execute_result",
                    "execution_count": 16,
                    "data": {
                        "application/vnd.dataresource+json": {
                            "schema": {
                                "fields": [
                                    {
                                        "name": "EmployeeID"
                                    },
                                    {
                                        "name": "JobTitle"
                                    },
                                    {
                                        "name": "Salary"
                                    }
                                ]
                            },
                            "data": [
                                {
                                    "0": "1001",
                                    "1": "HR",
                                    "2": "45300"
                                }
                            ]
                        },
                        "text/html": "<table><tr><th>EmployeeID</th><th>JobTitle</th><th>Salary</th></tr><tr><td>1001</td><td>HR</td><td>45300</td></tr></table>"
                    },
                    "metadata": {}
                }
            ],
            "execution_count": 16
        },
        {
            "cell_type": "code",
            "source": [
                "--DELETE from #Temp_EmployeeSalary"
            ],
            "metadata": {
                "azdata_cell_guid": "8357a269-ff73-4f5d-9b2f-7f25f9880414"
            },
            "outputs": [
                {
                    "output_type": "display_data",
                    "data": {
                        "text/html": "(23 rows affected)"
                    },
                    "metadata": {}
                },
                {
                    "output_type": "display_data",
                    "data": {
                        "text/html": "Total execution time: 00:00:00.096"
                    },
                    "metadata": {}
                }
            ],
            "execution_count": 20
        },
        {
            "cell_type": "code",
            "source": [
                "INSERT INTO #Temp_EmployeeSalary \r\n",
                "SELECT* \r\n",
                "FROM EmployeeSalary\r\n",
                "\r\n",
                "SELECT*\r\n",
                "FROM #Temp_EmployeeSalary "
            ],
            "metadata": {
                "azdata_cell_guid": "5bc3ab00-954d-40b6-abc9-7a9bc4142452"
            },
            "outputs": [
                {
                    "output_type": "display_data",
                    "data": {
                        "text/html": "(11 rows affected)"
                    },
                    "metadata": {}
                },
                {
                    "output_type": "display_data",
                    "data": {
                        "text/html": "(11 rows affected)"
                    },
                    "metadata": {}
                },
                {
                    "output_type": "display_data",
                    "data": {
                        "text/html": "Total execution time: 00:00:00.162"
                    },
                    "metadata": {}
                },
                {
                    "output_type": "execute_result",
                    "execution_count": 21,
                    "data": {
                        "application/vnd.dataresource+json": {
                            "schema": {
                                "fields": [
                                    {
                                        "name": "EmployeeID"
                                    },
                                    {
                                        "name": "JobTitle"
                                    },
                                    {
                                        "name": "Salary"
                                    }
                                ]
                            },
                            "data": [
                                {
                                    "0": "1001",
                                    "1": "Salesman",
                                    "2": "45000"
                                },
                                {
                                    "0": "1002",
                                    "1": "Receptionist",
                                    "2": "36000"
                                },
                                {
                                    "0": "1003",
                                    "1": "Salesman",
                                    "2": "63000"
                                },
                                {
                                    "0": "1004",
                                    "1": "Accountant",
                                    "2": "47000"
                                },
                                {
                                    "0": "1005",
                                    "1": "HR",
                                    "2": "50000"
                                },
                                {
                                    "0": "1012",
                                    "1": "Regional Manager",
                                    "2": "49000"
                                },
                                {
                                    "0": "1007",
                                    "1": "Supplier Relations",
                                    "2": "41000"
                                },
                                {
                                    "0": "1008",
                                    "1": "Salesman",
                                    "2": "48000"
                                },
                                {
                                    "0": "1009",
                                    "1": "Accountant",
                                    "2": "42000"
                                },
                                {
                                    "0": "1010",
                                    "1": "Regional Manager",
                                    "2": "52000"
                                },
                                {
                                    "0": "1011",
                                    "1": "Salesman",
                                    "2": "43000"
                                }
                            ]
                        },
                        "text/html": "<table><tr><th>EmployeeID</th><th>JobTitle</th><th>Salary</th></tr><tr><td>1001</td><td>Salesman</td><td>45000</td></tr><tr><td>1002</td><td>Receptionist</td><td>36000</td></tr><tr><td>1003</td><td>Salesman</td><td>63000</td></tr><tr><td>1004</td><td>Accountant</td><td>47000</td></tr><tr><td>1005</td><td>HR</td><td>50000</td></tr><tr><td>1012</td><td>Regional Manager</td><td>49000</td></tr><tr><td>1007</td><td>Supplier Relations</td><td>41000</td></tr><tr><td>1008</td><td>Salesman</td><td>48000</td></tr><tr><td>1009</td><td>Accountant</td><td>42000</td></tr><tr><td>1010</td><td>Regional Manager</td><td>52000</td></tr><tr><td>1011</td><td>Salesman</td><td>43000</td></tr></table>"
                    },
                    "metadata": {}
                }
            ],
            "execution_count": 21
        },
        {
            "cell_type": "code",
            "source": [
                "Create table #temp_employee2 (\r\n",
                "JobTitle varchar(30),\r\n",
                "EmployeesPerJob int ,\r\n",
                "AvgAge int,\r\n",
                "AvgSalary int\r\n",
                ")"
            ],
            "metadata": {
                "azdata_cell_guid": "9fd79363-b411-4192-9974-76ccfd4b35a2"
            },
            "outputs": [
                {
                    "output_type": "display_data",
                    "data": {
                        "text/html": "Commands completed successfully."
                    },
                    "metadata": {}
                },
                {
                    "output_type": "display_data",
                    "data": {
                        "text/html": "Total execution time: 00:00:00.109"
                    },
                    "metadata": {}
                }
            ],
            "execution_count": 39
        },
        {
            "cell_type": "code",
            "source": [
                "Insert into #temp_employee2\r\n",
                "SELECT JobTitle, Count(JobTitle), Avg(Age), AVG(salary)\r\n",
                "FROM EmployeeDemographics emp\r\n",
                "JOIN EmployeeSalary sal\r\n",
                "\tON emp.EmployeeID = sal.EmployeeID\r\n",
                "group by JobTitle"
            ],
            "metadata": {
                "azdata_cell_guid": "4f31a9f9-3a39-447a-af33-4e5f18cbf1a8"
            },
            "outputs": [
                {
                    "output_type": "display_data",
                    "data": {
                        "text/html": "(6 rows affected)"
                    },
                    "metadata": {}
                },
                {
                    "output_type": "display_data",
                    "data": {
                        "text/html": "Total execution time: 00:00:00.187"
                    },
                    "metadata": {}
                }
            ],
            "execution_count": 30
        },
        {
            "cell_type": "code",
            "source": [
                "--DELETE FROM #temp_employee2"
            ],
            "metadata": {
                "azdata_cell_guid": "ba6449f4-ef8d-4818-9da5-e1028ed46a74"
            },
            "outputs": [
                {
                    "output_type": "display_data",
                    "data": {
                        "text/html": "(18 rows affected)"
                    },
                    "metadata": {}
                },
                {
                    "output_type": "display_data",
                    "data": {
                        "text/html": "Total execution time: 00:00:00.148"
                    },
                    "metadata": {}
                }
            ],
            "execution_count": 28
        },
        {
            "cell_type": "code",
            "source": [
                "SELECT*from #temp_employee2"
            ],
            "metadata": {
                "azdata_cell_guid": "be2e5d93-37a1-4012-80e4-edb5e2ff1429"
            },
            "outputs": [
                {
                    "output_type": "display_data",
                    "data": {
                        "text/html": "(6 rows affected)"
                    },
                    "metadata": {}
                },
                {
                    "output_type": "display_data",
                    "data": {
                        "text/html": "Total execution time: 00:00:00.075"
                    },
                    "metadata": {}
                },
                {
                    "output_type": "execute_result",
                    "execution_count": 32,
                    "data": {
                        "application/vnd.dataresource+json": {
                            "schema": {
                                "fields": [
                                    {
                                        "name": "JobTitle"
                                    },
                                    {
                                        "name": "EmployeesPerJob"
                                    },
                                    {
                                        "name": "AvgAge"
                                    },
                                    {
                                        "name": "AvgSalary"
                                    }
                                ]
                            },
                            "data": [
                                {
                                    "0": "Accountant",
                                    "1": "2",
                                    "2": "33",
                                    "3": "44500"
                                },
                                {
                                    "0": "HR",
                                    "1": "1",
                                    "2": "38",
                                    "3": "50000"
                                },
                                {
                                    "0": "Receptionist",
                                    "1": "1",
                                    "2": "35",
                                    "3": "36000"
                                },
                                {
                                    "0": "Regional Manager",
                                    "1": "2",
                                    "2": "34",
                                    "3": "50500"
                                },
                                {
                                    "0": "Salesman",
                                    "1": "4",
                                    "2": "31",
                                    "3": "49750"
                                },
                                {
                                    "0": "Supplier Relations",
                                    "1": "1",
                                    "2": "32",
                                    "3": "41000"
                                }
                            ]
                        },
                        "text/html": "<table><tr><th>JobTitle</th><th>EmployeesPerJob</th><th>AvgAge</th><th>AvgSalary</th></tr><tr><td>Accountant</td><td>2</td><td>33</td><td>44500</td></tr><tr><td>HR</td><td>1</td><td>38</td><td>50000</td></tr><tr><td>Receptionist</td><td>1</td><td>35</td><td>36000</td></tr><tr><td>Regional Manager</td><td>2</td><td>34</td><td>50500</td></tr><tr><td>Salesman</td><td>4</td><td>31</td><td>49750</td></tr><tr><td>Supplier Relations</td><td>1</td><td>32</td><td>41000</td></tr></table>"
                    },
                    "metadata": {}
                }
            ],
            "execution_count": 32
        },
        {
            "cell_type": "code",
            "source": [
                "Create table #temp_employee2 (\r\n",
                "JobTitle varchar(30),\r\n",
                "EmployeesPerJob int ,\r\n",
                "AvgAge int,\r\n",
                "AvgSalary int\r\n",
                ")\r\n",
                ""
            ],
            "metadata": {
                "azdata_cell_guid": "783c9c03-7b72-48e4-a604-4237323b80e5"
            },
            "outputs": [
                {
                    "output_type": "error",
                    "ename": "",
                    "evalue": "Msg 2714, Level 16, State 6, Line 1\r\nThere is already an object named '#temp_employee2' in the database.",
                    "traceback": []
                },
                {
                    "output_type": "display_data",
                    "data": {
                        "text/html": "Total execution time: 00:00:00.218"
                    },
                    "metadata": {}
                }
            ],
            "execution_count": 41
        },
        {
            "cell_type": "code",
            "source": [
                "DROP TABLE IF EXISTS #temp_employee2\r\n",
                "Create table #temp_employee2 (\r\n",
                "JobTitle varchar(30),\r\n",
                "EmployeesPerJob int ,\r\n",
                "AvgAge int,\r\n",
                "AvgSalary int\r\n",
                ")"
            ],
            "metadata": {
                "azdata_cell_guid": "8124fc04-ad86-4a52-9713-9c1bc80268fd",
                "tags": [
                    "hide_input"
                ]
            },
            "outputs": [
                {
                    "output_type": "display_data",
                    "data": {
                        "text/html": "Commands completed successfully."
                    },
                    "metadata": {}
                },
                {
                    "output_type": "display_data",
                    "data": {
                        "text/html": "Total execution time: 00:00:00.045"
                    },
                    "metadata": {}
                }
            ],
            "execution_count": 44
        },
        {
            "cell_type": "markdown",
            "source": [
                "# **/\\*\\*\\*\\*\\*String Functions - TRIM, LTRIM, RTRIM, Replace, Substring, Upper, Lower\\*\\*\\*\\*\\*/**"
            ],
            "metadata": {
                "azdata_cell_guid": "9be3b422-7ff1-44bb-8314-fd7b2dbf8b3a"
            }
        },
        {
            "cell_type": "code",
            "source": [
                "CREATE TABLE EmployeeErrors (\r\n",
                "EmployeeID varchar(50)\r\n",
                ",FirstName varchar(50)\r\n",
                ",LastName varchar(50)\r\n",
                ")\r\n",
                ""
            ],
            "metadata": {
                "azdata_cell_guid": "d3c9100a-e586-4885-8884-8287a92484c6"
            },
            "outputs": [
                {
                    "output_type": "error",
                    "ename": "",
                    "evalue": "Msg 2714, Level 16, State 6, Line 1\r\nThere is already an object named 'EmployeeErrors' in the database.",
                    "traceback": []
                },
                {
                    "output_type": "display_data",
                    "data": {
                        "text/html": "Total execution time: 00:00:00.255"
                    },
                    "metadata": {}
                }
            ],
            "execution_count": 46
        },
        {
            "cell_type": "code",
            "source": [
                "Insert into EmployeeErrors Values \r\n",
                "('1001  ', 'Jimbo', 'Halbert')\r\n",
                ",('  1002', 'Pamela', 'Beasely')\r\n",
                ",('1005', 'TOby', 'Flenderson - Fired')"
            ],
            "metadata": {
                "azdata_cell_guid": "b0e6f252-f5e4-4850-997e-0aceb9992555"
            },
            "outputs": [
                {
                    "output_type": "display_data",
                    "data": {
                        "text/html": "(3 rows affected)"
                    },
                    "metadata": {}
                },
                {
                    "output_type": "display_data",
                    "data": {
                        "text/html": "Total execution time: 00:00:00.131"
                    },
                    "metadata": {}
                }
            ],
            "execution_count": 47
        },
        {
            "cell_type": "code",
            "source": [
                "Select *\r\n",
                "From EmployeeErrors"
            ],
            "metadata": {
                "azdata_cell_guid": "d0e94d71-c609-45b3-9378-0e12d2075ab0"
            },
            "outputs": [
                {
                    "output_type": "display_data",
                    "data": {
                        "text/html": "(3 rows affected)"
                    },
                    "metadata": {}
                },
                {
                    "output_type": "display_data",
                    "data": {
                        "text/html": "Total execution time: 00:00:00.171"
                    },
                    "metadata": {}
                },
                {
                    "output_type": "execute_result",
                    "execution_count": 48,
                    "data": {
                        "application/vnd.dataresource+json": {
                            "schema": {
                                "fields": [
                                    {
                                        "name": "EmployeeID"
                                    },
                                    {
                                        "name": "FirstName"
                                    },
                                    {
                                        "name": "LastName"
                                    }
                                ]
                            },
                            "data": [
                                {
                                    "0": "1001  ",
                                    "1": "Jimbo",
                                    "2": "Halbert"
                                },
                                {
                                    "0": "  1002",
                                    "1": "Pamela",
                                    "2": "Beasely"
                                },
                                {
                                    "0": "1005",
                                    "1": "TOby",
                                    "2": "Flenderson - Fired"
                                }
                            ]
                        },
                        "text/html": "<table><tr><th>EmployeeID</th><th>FirstName</th><th>LastName</th></tr><tr><td>1001  </td><td>Jimbo</td><td>Halbert</td></tr><tr><td>  1002</td><td>Pamela</td><td>Beasely</td></tr><tr><td>1005</td><td>TOby</td><td>Flenderson - Fired</td></tr></table>"
                    },
                    "metadata": {}
                }
            ],
            "execution_count": 48
        },
        {
            "cell_type": "markdown",
            "source": [
                "## **/\\*\\*\\*\\*\\*\\*\\*\\*\\*\\* Using TRIM, LTRIM,RTRIM \\*\\*\\*\\*\\*\\*\\*\\*\\*\\*\\*\\*\\*/**"
            ],
            "metadata": {
                "azdata_cell_guid": "213c7c6e-851c-4d6e-a4a0-8131e56a2822"
            }
        },
        {
            "cell_type": "code",
            "source": [
                "SELECT EmployeeID ,TRIM(EmployeeID) AS TrimID\r\n",
                "FROM EmployeeErrors\r\n",
                "\r\n",
                "SELECT EmployeeID ,LTRIM(EmployeeID) AS LTrimID\r\n",
                "FROM EmployeeErrors\r\n",
                "\r\n",
                "SELECT EmployeeID ,RTRIM(EmployeeID) AS RTrimID\r\n",
                "FROM EmployeeErrors"
            ],
            "metadata": {
                "azdata_cell_guid": "76509fc1-e64b-4aad-aed9-092faa846caf"
            },
            "outputs": [
                {
                    "output_type": "display_data",
                    "data": {
                        "text/html": "(3 rows affected)"
                    },
                    "metadata": {}
                },
                {
                    "output_type": "display_data",
                    "data": {
                        "text/html": "(3 rows affected)"
                    },
                    "metadata": {}
                },
                {
                    "output_type": "display_data",
                    "data": {
                        "text/html": "(3 rows affected)"
                    },
                    "metadata": {}
                },
                {
                    "output_type": "display_data",
                    "data": {
                        "text/html": "Total execution time: 00:00:00.193"
                    },
                    "metadata": {}
                },
                {
                    "output_type": "execute_result",
                    "execution_count": 52,
                    "data": {
                        "application/vnd.dataresource+json": {
                            "schema": {
                                "fields": [
                                    {
                                        "name": "EmployeeID"
                                    },
                                    {
                                        "name": "TrimID"
                                    }
                                ]
                            },
                            "data": [
                                {
                                    "0": "1001  ",
                                    "1": "1001"
                                },
                                {
                                    "0": "  1002",
                                    "1": "1002"
                                },
                                {
                                    "0": "1005",
                                    "1": "1005"
                                }
                            ]
                        },
                        "text/html": "<table><tr><th>EmployeeID</th><th>TrimID</th></tr><tr><td>1001  </td><td>1001</td></tr><tr><td>  1002</td><td>1002</td></tr><tr><td>1005</td><td>1005</td></tr></table>"
                    },
                    "metadata": {}
                },
                {
                    "output_type": "execute_result",
                    "execution_count": 52,
                    "data": {
                        "application/vnd.dataresource+json": {
                            "schema": {
                                "fields": [
                                    {
                                        "name": "EmployeeID"
                                    },
                                    {
                                        "name": "LTrimID"
                                    }
                                ]
                            },
                            "data": [
                                {
                                    "0": "1001  ",
                                    "1": "1001  "
                                },
                                {
                                    "0": "  1002",
                                    "1": "1002"
                                },
                                {
                                    "0": "1005",
                                    "1": "1005"
                                }
                            ]
                        },
                        "text/html": "<table><tr><th>EmployeeID</th><th>LTrimID</th></tr><tr><td>1001  </td><td>1001  </td></tr><tr><td>  1002</td><td>1002</td></tr><tr><td>1005</td><td>1005</td></tr></table>"
                    },
                    "metadata": {}
                },
                {
                    "output_type": "execute_result",
                    "execution_count": 52,
                    "data": {
                        "application/vnd.dataresource+json": {
                            "schema": {
                                "fields": [
                                    {
                                        "name": "EmployeeID"
                                    },
                                    {
                                        "name": "RTrimID"
                                    }
                                ]
                            },
                            "data": [
                                {
                                    "0": "1001  ",
                                    "1": "1001"
                                },
                                {
                                    "0": "  1002",
                                    "1": "  1002"
                                },
                                {
                                    "0": "1005",
                                    "1": "1005"
                                }
                            ]
                        },
                        "text/html": "<table><tr><th>EmployeeID</th><th>RTrimID</th></tr><tr><td>1001  </td><td>1001</td></tr><tr><td>  1002</td><td>  1002</td></tr><tr><td>1005</td><td>1005</td></tr></table>"
                    },
                    "metadata": {}
                }
            ],
            "execution_count": 52
        },
        {
            "cell_type": "markdown",
            "source": [
                "## **/\\*\\*\\*\\*\\*\\*\\*\\* Using REPLACE \\*\\*\\*\\*\\*\\*\\*\\*\\*/**"
            ],
            "metadata": {
                "azdata_cell_guid": "69b984ed-6c6e-4a86-ba35-69075b64514a"
            }
        },
        {
            "cell_type": "code",
            "source": [
                "SELECT lastName ,REPLACE(LastName,'- Fired','') AS LastNameFixed\r\n",
                "FROM EmployeeErrors"
            ],
            "metadata": {
                "azdata_cell_guid": "20284f51-097d-4f96-b0c3-9599500e7d66",
                "tags": []
            },
            "outputs": [
                {
                    "output_type": "display_data",
                    "data": {
                        "text/html": "(3 rows affected)"
                    },
                    "metadata": {}
                },
                {
                    "output_type": "display_data",
                    "data": {
                        "text/html": "Total execution time: 00:00:00.060"
                    },
                    "metadata": {}
                },
                {
                    "output_type": "execute_result",
                    "execution_count": 54,
                    "data": {
                        "application/vnd.dataresource+json": {
                            "schema": {
                                "fields": [
                                    {
                                        "name": "lastName"
                                    },
                                    {
                                        "name": "LastNameFixed"
                                    }
                                ]
                            },
                            "data": [
                                {
                                    "0": "Halbert",
                                    "1": "Halbert"
                                },
                                {
                                    "0": "Beasely",
                                    "1": "Beasely"
                                },
                                {
                                    "0": "Flenderson - Fired",
                                    "1": "Flenderson "
                                }
                            ]
                        },
                        "text/html": "<table><tr><th>lastName</th><th>LastNameFixed</th></tr><tr><td>Halbert</td><td>Halbert</td></tr><tr><td>Beasely</td><td>Beasely</td></tr><tr><td>Flenderson - Fired</td><td>Flenderson </td></tr></table>"
                    },
                    "metadata": {}
                }
            ],
            "execution_count": 54
        },
        {
            "cell_type": "markdown",
            "source": [
                "## **/\\*\\*\\*\\*\\*\\*\\*\\*\\*\\*\\*\\*\\*\\*\\*\\*\\*\\*\\*\\*\\*\\* Using SUBSTRING \\*\\*\\*\\*\\*\\*\\*\\*\\*\\*\\*\\*\\*\\*\\*\\*\\*\\*/**"
            ],
            "metadata": {
                "azdata_cell_guid": "c02c5d6d-1b8f-444a-8b3d-c6028fd40461"
            }
        },
        {
            "cell_type": "code",
            "source": [
                "SELECT SUBSTRING(FirstName,1,3) AS Char_of_Name\r\n",
                "FROM EmployeeErrors"
            ],
            "metadata": {
                "azdata_cell_guid": "4e857f28-b972-433a-b4ab-d296155ec7b0"
            },
            "outputs": [
                {
                    "output_type": "display_data",
                    "data": {
                        "text/html": "(3 rows affected)"
                    },
                    "metadata": {}
                },
                {
                    "output_type": "display_data",
                    "data": {
                        "text/html": "Total execution time: 00:00:00.004"
                    },
                    "metadata": {}
                },
                {
                    "output_type": "execute_result",
                    "execution_count": 59,
                    "data": {
                        "application/vnd.dataresource+json": {
                            "schema": {
                                "fields": [
                                    {
                                        "name": "Char_of_Name"
                                    }
                                ]
                            },
                            "data": [
                                {
                                    "0": "Jim"
                                },
                                {
                                    "0": "Pam"
                                },
                                {
                                    "0": "TOb"
                                }
                            ]
                        },
                        "text/html": "<table><tr><th>Char_of_Name</th></tr><tr><td>Jim</td></tr><tr><td>Pam</td></tr><tr><td>TOb</td></tr></table>"
                    },
                    "metadata": {}
                }
            ],
            "execution_count": 59
        },
        {
            "cell_type": "code",
            "source": [
                "Select Substring(err.FirstName,1,3) AS ERROR_FIRSTNAME, Substring(dem.FirstName,1,3) AS DEM_FIRSTNAME/*, Substring(err.LastName,1,3), Substring(dem.LastName,1,3)*/\r\n",
                "FROM EmployeeErrors err\r\n",
                "JOIN EmployeeDemographics dem\r\n",
                "\ton Substring(err.FirstName,1,3) = Substring(dem.FirstName,1,3)\r\n",
                "\t--and Substring(err.LastName,1,3) = Substring(dem.LastName,1,3)\r\n",
                ""
            ],
            "metadata": {
                "azdata_cell_guid": "519b0753-bae0-491b-9bc5-38b6827200c4"
            },
            "outputs": [
                {
                    "output_type": "display_data",
                    "data": {
                        "text/html": "(1 row affected)"
                    },
                    "metadata": {}
                },
                {
                    "output_type": "display_data",
                    "data": {
                        "text/html": "Total execution time: 00:00:00.167"
                    },
                    "metadata": {}
                },
                {
                    "output_type": "execute_result",
                    "execution_count": 65,
                    "data": {
                        "application/vnd.dataresource+json": {
                            "schema": {
                                "fields": [
                                    {
                                        "name": "ERROR_FIRSTNAME"
                                    },
                                    {
                                        "name": "DEM_FIRSTNAME"
                                    }
                                ]
                            },
                            "data": [
                                {
                                    "0": "Jim",
                                    "1": "Jim"
                                }
                            ]
                        },
                        "text/html": "<table><tr><th>ERROR_FIRSTNAME</th><th>DEM_FIRSTNAME</th></tr><tr><td>Jim</td><td>Jim</td></tr></table>"
                    },
                    "metadata": {}
                }
            ],
            "execution_count": 65
        },
        {
            "cell_type": "markdown",
            "source": [
                "## **/\\*\\*\\*\\*\\*\\*\\*\\*\\*\\*\\*\\* Using UPPER and LOWER  \\*\\*\\*\\*\\*\\*\\*\\*\\*\\*\\*\\*\\*\\*/**"
            ],
            "metadata": {
                "azdata_cell_guid": "bbc4504a-3cba-4adc-bafe-03653d24d2ad"
            }
        },
        {
            "cell_type": "code",
            "source": [
                "Select firstname, LOWER(firstname) AS Lower_case_FN\r\n",
                "from EmployeeErrors"
            ],
            "metadata": {
                "azdata_cell_guid": "8868f341-c67f-4fd4-8ef8-f0fc22d9a8aa"
            },
            "outputs": [
                {
                    "output_type": "display_data",
                    "data": {
                        "text/html": "(3 rows affected)"
                    },
                    "metadata": {}
                },
                {
                    "output_type": "display_data",
                    "data": {
                        "text/html": "Total execution time: 00:00:00.542"
                    },
                    "metadata": {}
                },
                {
                    "output_type": "execute_result",
                    "execution_count": 66,
                    "data": {
                        "application/vnd.dataresource+json": {
                            "schema": {
                                "fields": [
                                    {
                                        "name": "firstname"
                                    },
                                    {
                                        "name": "Lower_case_FN"
                                    }
                                ]
                            },
                            "data": [
                                {
                                    "0": "Jimbo",
                                    "1": "jimbo"
                                },
                                {
                                    "0": "Pamela",
                                    "1": "pamela"
                                },
                                {
                                    "0": "TOby",
                                    "1": "toby"
                                }
                            ]
                        },
                        "text/html": "<table><tr><th>firstname</th><th>Lower_case_FN</th></tr><tr><td>Jimbo</td><td>jimbo</td></tr><tr><td>Pamela</td><td>pamela</td></tr><tr><td>TOby</td><td>toby</td></tr></table>"
                    },
                    "metadata": {}
                }
            ],
            "execution_count": 66
        },
        {
            "cell_type": "code",
            "source": [
                "Select firstname, UPPER(firstname)AS Upper_case_FN\r\n",
                "from EmployeeErrors"
            ],
            "metadata": {
                "azdata_cell_guid": "3310a7f6-daec-45dc-a51b-34457589a480"
            },
            "outputs": [
                {
                    "output_type": "display_data",
                    "data": {
                        "text/html": "(3 rows affected)"
                    },
                    "metadata": {}
                },
                {
                    "output_type": "display_data",
                    "data": {
                        "text/html": "Total execution time: 00:00:00.146"
                    },
                    "metadata": {}
                },
                {
                    "output_type": "execute_result",
                    "execution_count": 67,
                    "data": {
                        "application/vnd.dataresource+json": {
                            "schema": {
                                "fields": [
                                    {
                                        "name": "firstname"
                                    },
                                    {
                                        "name": "Upper_case_FN"
                                    }
                                ]
                            },
                            "data": [
                                {
                                    "0": "Jimbo",
                                    "1": "JIMBO"
                                },
                                {
                                    "0": "Pamela",
                                    "1": "PAMELA"
                                },
                                {
                                    "0": "TOby",
                                    "1": "TOBY"
                                }
                            ]
                        },
                        "text/html": "<table><tr><th>firstname</th><th>Upper_case_FN</th></tr><tr><td>Jimbo</td><td>JIMBO</td></tr><tr><td>Pamela</td><td>PAMELA</td></tr><tr><td>TOby</td><td>TOBY</td></tr></table>"
                    },
                    "metadata": {}
                }
            ],
            "execution_count": 67
        },
        {
            "cell_type": "markdown",
            "source": [
                "## **/\\*\\*\\*\\*\\*\\*\\*\\*\\*\\*\\*\\*\\*\\*\\*\\*\\*\\*\\*\\*\\*\\*\\*\\*\\*\\*\\*\\*\\* STORED PROCEDURE \\*\\*\\*\\*\\*\\*\\*\\*\\*\\*\\*\\*\\*\\*\\*\\*\\*\\*\\*\\*\\*\\*\\*\\*\\*\\*\\*\\*\\*\\*\\*\\*\\*\\*/**"
            ],
            "metadata": {
                "azdata_cell_guid": "08aa2ff7-0386-463b-b145-2657d2081967"
            }
        },
        {
            "cell_type": "code",
            "source": [
                "CREATE PROCEDURE Test   ---Creating stored procedure\r\n",
                "AS\r\n",
                "SELECT*\r\n",
                "FROM EmployeeDemographics"
            ],
            "metadata": {
                "azdata_cell_guid": "db378d67-ae68-4584-9899-cea1792ca613"
            },
            "outputs": [
                {
                    "output_type": "display_data",
                    "data": {
                        "text/html": "Commands completed successfully."
                    },
                    "metadata": {}
                },
                {
                    "output_type": "display_data",
                    "data": {
                        "text/html": "Total execution time: 00:00:01.182"
                    },
                    "metadata": {}
                }
            ],
            "execution_count": 68
        },
        {
            "cell_type": "code",
            "source": [
                "EXEC Test ---execute stored procedure"
            ],
            "metadata": {
                "azdata_cell_guid": "7b7cf9a4-f564-41c1-94ab-acab6a71c040"
            },
            "outputs": [
                {
                    "output_type": "display_data",
                    "data": {
                        "text/html": "(11 rows affected)"
                    },
                    "metadata": {}
                },
                {
                    "output_type": "display_data",
                    "data": {
                        "text/html": "Total execution time: 00:00:01.127"
                    },
                    "metadata": {}
                },
                {
                    "output_type": "execute_result",
                    "execution_count": 69,
                    "data": {
                        "application/vnd.dataresource+json": {
                            "schema": {
                                "fields": [
                                    {
                                        "name": "EmployeeID"
                                    },
                                    {
                                        "name": "FirstName"
                                    },
                                    {
                                        "name": "LastName"
                                    },
                                    {
                                        "name": "Age"
                                    },
                                    {
                                        "name": "Gender"
                                    }
                                ]
                            },
                            "data": [
                                {
                                    "0": "1001",
                                    "1": "Jim",
                                    "2": "Harin",
                                    "3": "32",
                                    "4": "Male"
                                },
                                {
                                    "0": "1002",
                                    "1": "John",
                                    "2": "Mark",
                                    "3": "35",
                                    "4": "Male"
                                },
                                {
                                    "0": "1003",
                                    "1": "Riya",
                                    "2": "Ray",
                                    "3": "28",
                                    "4": "Female"
                                },
                                {
                                    "0": "1004",
                                    "1": "Harry",
                                    "2": "pal",
                                    "3": "36",
                                    "4": "Male"
                                },
                                {
                                    "0": "1005",
                                    "1": "Ram",
                                    "2": "Singh",
                                    "3": "38",
                                    "4": "Male"
                                },
                                {
                                    "0": "1007",
                                    "1": "Meredith",
                                    "2": "Palmer",
                                    "3": "32",
                                    "4": "Female"
                                },
                                {
                                    "0": "1008",
                                    "1": "Stanley",
                                    "2": "Hudson",
                                    "3": "38",
                                    "4": "Male"
                                },
                                {
                                    "0": "1009",
                                    "1": "Kevin",
                                    "2": "Malone",
                                    "3": "31",
                                    "4": "Male"
                                },
                                {
                                    "0": "1011",
                                    "1": "Ryan",
                                    "2": "Howard",
                                    "3": "26",
                                    "4": "Male"
                                },
                                {
                                    "0": "1012",
                                    "1": "Holly",
                                    "2": "Flax",
                                    "3": "33",
                                    "4": "Male"
                                },
                                {
                                    "0": "1010",
                                    "1": "Reema",
                                    "2": "Sharma",
                                    "3": "36",
                                    "4": "Female"
                                }
                            ]
                        },
                        "text/html": "<table><tr><th>EmployeeID</th><th>FirstName</th><th>LastName</th><th>Age</th><th>Gender</th></tr><tr><td>1001</td><td>Jim</td><td>Harin</td><td>32</td><td>Male</td></tr><tr><td>1002</td><td>John</td><td>Mark</td><td>35</td><td>Male</td></tr><tr><td>1003</td><td>Riya</td><td>Ray</td><td>28</td><td>Female</td></tr><tr><td>1004</td><td>Harry</td><td>pal</td><td>36</td><td>Male</td></tr><tr><td>1005</td><td>Ram</td><td>Singh</td><td>38</td><td>Male</td></tr><tr><td>1007</td><td>Meredith</td><td>Palmer</td><td>32</td><td>Female</td></tr><tr><td>1008</td><td>Stanley</td><td>Hudson</td><td>38</td><td>Male</td></tr><tr><td>1009</td><td>Kevin</td><td>Malone</td><td>31</td><td>Male</td></tr><tr><td>1011</td><td>Ryan</td><td>Howard</td><td>26</td><td>Male</td></tr><tr><td>1012</td><td>Holly</td><td>Flax</td><td>33</td><td>Male</td></tr><tr><td>1010</td><td>Reema</td><td>Sharma</td><td>36</td><td>Female</td></tr></table>"
                    },
                    "metadata": {}
                }
            ],
            "execution_count": 69
        },
        {
            "cell_type": "code",
            "source": [
                "CREATE PROCEDURE Temp_Employee\r\n",
                "AS\r\n",
                "DROP TABLE IF EXISTS #temp_employee\r\n",
                "Create table #temp_employee (\r\n",
                "JobTitle varchar(100),\r\n",
                "EmployeesPerJob int ,\r\n",
                "AvgAge int,\r\n",
                "AvgSalary int\r\n",
                ")\r\n",
                "Insert into #temp_employee\r\n",
                "SELECT JobTitle, Count(JobTitle), Avg(Age), AVG(salary)\r\n",
                "FROM EmployeeDemographics emp\r\n",
                "JOIN EmployeeSalary sal\r\n",
                "\tON emp.EmployeeID = sal.EmployeeID\r\n",
                "group by JobTitle\r\n",
                "\r\n",
                "Select * \r\n",
                "From #temp_employee\r\n",
                "GO;\r\n",
                ""
            ],
            "metadata": {
                "azdata_cell_guid": "4d3b85af-e462-457d-96e0-8a520f8d1d4f"
            },
            "outputs": [
                {
                    "output_type": "display_data",
                    "data": {
                        "text/html": "Commands completed successfully."
                    },
                    "metadata": {}
                },
                {
                    "output_type": "display_data",
                    "data": {
                        "text/html": "Total execution time: 00:00:00.165"
                    },
                    "metadata": {}
                }
            ],
            "execution_count": 87
        },
        {
            "cell_type": "code",
            "source": [
                "EXEC Temp_Employee"
            ],
            "metadata": {
                "azdata_cell_guid": "e0bc3407-42db-440f-8707-11125f385654"
            },
            "outputs": [
                {
                    "output_type": "display_data",
                    "data": {
                        "text/html": "(6 rows affected)"
                    },
                    "metadata": {}
                },
                {
                    "output_type": "display_data",
                    "data": {
                        "text/html": "(6 rows affected)"
                    },
                    "metadata": {}
                },
                {
                    "output_type": "display_data",
                    "data": {
                        "text/html": "Total execution time: 00:00:00.354"
                    },
                    "metadata": {}
                },
                {
                    "output_type": "execute_result",
                    "execution_count": 88,
                    "data": {
                        "application/vnd.dataresource+json": {
                            "schema": {
                                "fields": [
                                    {
                                        "name": "JobTitle"
                                    },
                                    {
                                        "name": "EmployeesPerJob"
                                    },
                                    {
                                        "name": "AvgAge"
                                    },
                                    {
                                        "name": "AvgSalary"
                                    }
                                ]
                            },
                            "data": [
                                {
                                    "0": "Accountant",
                                    "1": "2",
                                    "2": "33",
                                    "3": "44500"
                                },
                                {
                                    "0": "HR",
                                    "1": "1",
                                    "2": "38",
                                    "3": "50000"
                                },
                                {
                                    "0": "Receptionist",
                                    "1": "1",
                                    "2": "35",
                                    "3": "36000"
                                },
                                {
                                    "0": "Regional Manager",
                                    "1": "2",
                                    "2": "34",
                                    "3": "50500"
                                },
                                {
                                    "0": "Salesman",
                                    "1": "4",
                                    "2": "31",
                                    "3": "49750"
                                },
                                {
                                    "0": "Supplier Relations",
                                    "1": "1",
                                    "2": "32",
                                    "3": "41000"
                                }
                            ]
                        },
                        "text/html": "<table><tr><th>JobTitle</th><th>EmployeesPerJob</th><th>AvgAge</th><th>AvgSalary</th></tr><tr><td>Accountant</td><td>2</td><td>33</td><td>44500</td></tr><tr><td>HR</td><td>1</td><td>38</td><td>50000</td></tr><tr><td>Receptionist</td><td>1</td><td>35</td><td>36000</td></tr><tr><td>Regional Manager</td><td>2</td><td>34</td><td>50500</td></tr><tr><td>Salesman</td><td>4</td><td>31</td><td>49750</td></tr><tr><td>Supplier Relations</td><td>1</td><td>32</td><td>41000</td></tr></table>"
                    },
                    "metadata": {}
                }
            ],
            "execution_count": 88
        },
        {
            "cell_type": "code",
            "source": [
                "ALTER PROCEDURE Temp_Employee\r\n",
                "@JobTitle varchar(30)\r\n",
                "AS\r\n",
                "DROP TABLE IF EXISTS #temp_employee\r\n",
                "Create table #temp_employee (\r\n",
                "JobTitle varchar(100),\r\n",
                "EmployeesPerJob int ,\r\n",
                "AvgAge int,\r\n",
                "AvgSalary int\r\n",
                ")\r\n",
                "Insert into #temp_employee\r\n",
                "SELECT JobTitle, Count(JobTitle), Avg(Age), AVG(salary)\r\n",
                "FROM EmployeeDemographics emp\r\n",
                "JOIN EmployeeSalary sal\r\n",
                "\tON emp.EmployeeID = sal.EmployeeID\r\n",
                "    WHERE JobTitle=@JobTitle\r\n",
                "group by JobTitle\r\n",
                "\r\n",
                "Select * \r\n",
                "From #temp_employee\r\n",
                "GO;"
            ],
            "metadata": {
                "azdata_cell_guid": "b59b26b0-5d2d-4920-8858-f1fc5e0ec654"
            },
            "outputs": [
                {
                    "output_type": "display_data",
                    "data": {
                        "text/html": "Commands completed successfully."
                    },
                    "metadata": {}
                },
                {
                    "output_type": "display_data",
                    "data": {
                        "text/html": "Total execution time: 00:00:00.213"
                    },
                    "metadata": {}
                }
            ],
            "execution_count": 89
        },
        {
            "cell_type": "code",
            "source": [
                "EXEC Temp_Employee @JobTitle ='Salesman'"
            ],
            "metadata": {
                "azdata_cell_guid": "eefe4b74-0d63-4680-8dd2-a9b870253a7e"
            },
            "outputs": [
                {
                    "output_type": "display_data",
                    "data": {
                        "text/html": "(1 row affected)"
                    },
                    "metadata": {}
                },
                {
                    "output_type": "display_data",
                    "data": {
                        "text/html": "(1 row affected)"
                    },
                    "metadata": {}
                },
                {
                    "output_type": "display_data",
                    "data": {
                        "text/html": "Total execution time: 00:00:00.066"
                    },
                    "metadata": {}
                },
                {
                    "output_type": "execute_result",
                    "execution_count": 92,
                    "data": {
                        "application/vnd.dataresource+json": {
                            "schema": {
                                "fields": [
                                    {
                                        "name": "JobTitle"
                                    },
                                    {
                                        "name": "EmployeesPerJob"
                                    },
                                    {
                                        "name": "AvgAge"
                                    },
                                    {
                                        "name": "AvgSalary"
                                    }
                                ]
                            },
                            "data": [
                                {
                                    "0": "Salesman",
                                    "1": "4",
                                    "2": "31",
                                    "3": "49750"
                                }
                            ]
                        },
                        "text/html": "<table><tr><th>JobTitle</th><th>EmployeesPerJob</th><th>AvgAge</th><th>AvgSalary</th></tr><tr><td>Salesman</td><td>4</td><td>31</td><td>49750</td></tr></table>"
                    },
                    "metadata": {}
                }
            ],
            "execution_count": 92
        },
        {
            "cell_type": "code",
            "source": [
                "EXEC Temp_Employee @JobTitle ='HR'"
            ],
            "metadata": {
                "azdata_cell_guid": "da52b753-2c93-4b30-a118-3258dd297709"
            },
            "outputs": [
                {
                    "output_type": "display_data",
                    "data": {
                        "text/html": "(1 row affected)"
                    },
                    "metadata": {}
                },
                {
                    "output_type": "display_data",
                    "data": {
                        "text/html": "(1 row affected)"
                    },
                    "metadata": {}
                },
                {
                    "output_type": "display_data",
                    "data": {
                        "text/html": "Total execution time: 00:00:00.060"
                    },
                    "metadata": {}
                },
                {
                    "output_type": "execute_result",
                    "execution_count": 93,
                    "data": {
                        "application/vnd.dataresource+json": {
                            "schema": {
                                "fields": [
                                    {
                                        "name": "JobTitle"
                                    },
                                    {
                                        "name": "EmployeesPerJob"
                                    },
                                    {
                                        "name": "AvgAge"
                                    },
                                    {
                                        "name": "AvgSalary"
                                    }
                                ]
                            },
                            "data": [
                                {
                                    "0": "HR",
                                    "1": "1",
                                    "2": "38",
                                    "3": "50000"
                                }
                            ]
                        },
                        "text/html": "<table><tr><th>JobTitle</th><th>EmployeesPerJob</th><th>AvgAge</th><th>AvgSalary</th></tr><tr><td>HR</td><td>1</td><td>38</td><td>50000</td></tr></table>"
                    },
                    "metadata": {}
                }
            ],
            "execution_count": 93
        },
        {
            "cell_type": "markdown",
            "source": [
                "# **/\\*\\*\\*\\*\\*\\*\\*\\*\\* SUBQUERIES(in the SELECT ,FROM and WHERE statement \\*\\*\\*\\*\\*\\*\\*\\*\\*\\*\\*\\*\\*\\*/**"
            ],
            "metadata": {
                "azdata_cell_guid": "cc594403-e762-433c-acd8-c51b580e22e2"
            }
        },
        {
            "cell_type": "code",
            "source": [
                "SELECT*\r\n",
                "FROM EmployeeSalary"
            ],
            "metadata": {
                "azdata_cell_guid": "50807430-ea96-4cae-af1a-1dc417a7f703"
            },
            "outputs": [
                {
                    "output_type": "display_data",
                    "data": {
                        "text/html": "(11 rows affected)"
                    },
                    "metadata": {}
                },
                {
                    "output_type": "display_data",
                    "data": {
                        "text/html": "Total execution time: 00:00:00.178"
                    },
                    "metadata": {}
                },
                {
                    "output_type": "execute_result",
                    "execution_count": 94,
                    "data": {
                        "application/vnd.dataresource+json": {
                            "schema": {
                                "fields": [
                                    {
                                        "name": "EmployeeID"
                                    },
                                    {
                                        "name": "JobTitle"
                                    },
                                    {
                                        "name": "Salary"
                                    }
                                ]
                            },
                            "data": [
                                {
                                    "0": "1001",
                                    "1": "Salesman",
                                    "2": "45000"
                                },
                                {
                                    "0": "1002",
                                    "1": "Receptionist",
                                    "2": "36000"
                                },
                                {
                                    "0": "1003",
                                    "1": "Salesman",
                                    "2": "63000"
                                },
                                {
                                    "0": "1004",
                                    "1": "Accountant",
                                    "2": "47000"
                                },
                                {
                                    "0": "1005",
                                    "1": "HR",
                                    "2": "50000"
                                },
                                {
                                    "0": "1012",
                                    "1": "Regional Manager",
                                    "2": "49000"
                                },
                                {
                                    "0": "1007",
                                    "1": "Supplier Relations",
                                    "2": "41000"
                                },
                                {
                                    "0": "1008",
                                    "1": "Salesman",
                                    "2": "48000"
                                },
                                {
                                    "0": "1009",
                                    "1": "Accountant",
                                    "2": "42000"
                                },
                                {
                                    "0": "1010",
                                    "1": "Regional Manager",
                                    "2": "52000"
                                },
                                {
                                    "0": "1011",
                                    "1": "Salesman",
                                    "2": "43000"
                                }
                            ]
                        },
                        "text/html": "<table><tr><th>EmployeeID</th><th>JobTitle</th><th>Salary</th></tr><tr><td>1001</td><td>Salesman</td><td>45000</td></tr><tr><td>1002</td><td>Receptionist</td><td>36000</td></tr><tr><td>1003</td><td>Salesman</td><td>63000</td></tr><tr><td>1004</td><td>Accountant</td><td>47000</td></tr><tr><td>1005</td><td>HR</td><td>50000</td></tr><tr><td>1012</td><td>Regional Manager</td><td>49000</td></tr><tr><td>1007</td><td>Supplier Relations</td><td>41000</td></tr><tr><td>1008</td><td>Salesman</td><td>48000</td></tr><tr><td>1009</td><td>Accountant</td><td>42000</td></tr><tr><td>1010</td><td>Regional Manager</td><td>52000</td></tr><tr><td>1011</td><td>Salesman</td><td>43000</td></tr></table>"
                    },
                    "metadata": {}
                }
            ],
            "execution_count": 94
        },
        {
            "cell_type": "markdown",
            "source": [
                "### **Using Subquery in SELECT Statement**"
            ],
            "metadata": {
                "azdata_cell_guid": "befbc71c-ac79-41f7-acb3-165c591c3d63"
            }
        },
        {
            "cell_type": "code",
            "source": [
                "SELECT EmployeeID,Salary,(SELECT AVG(Salary) FROM EmployeeSalary) AS Average_Salary\r\n",
                "FROM EmployeeSalary\r\n",
                "\r\n",
                "--SELECT AVG(Salary)AS Average_Salary FROM EmployeeSalary"
            ],
            "metadata": {
                "azdata_cell_guid": "b67ddd1f-40e6-4e67-af8d-83e602a88307"
            },
            "outputs": [
                {
                    "output_type": "display_data",
                    "data": {
                        "text/html": "(11 rows affected)"
                    },
                    "metadata": {}
                },
                {
                    "output_type": "display_data",
                    "data": {
                        "text/html": "Total execution time: 00:00:00.066"
                    },
                    "metadata": {}
                },
                {
                    "output_type": "execute_result",
                    "execution_count": 101,
                    "data": {
                        "application/vnd.dataresource+json": {
                            "schema": {
                                "fields": [
                                    {
                                        "name": "EmployeeID"
                                    },
                                    {
                                        "name": "Salary"
                                    },
                                    {
                                        "name": "Average_Salary"
                                    }
                                ]
                            },
                            "data": [
                                {
                                    "0": "1001",
                                    "1": "45000",
                                    "2": "46909"
                                },
                                {
                                    "0": "1002",
                                    "1": "36000",
                                    "2": "46909"
                                },
                                {
                                    "0": "1003",
                                    "1": "63000",
                                    "2": "46909"
                                },
                                {
                                    "0": "1004",
                                    "1": "47000",
                                    "2": "46909"
                                },
                                {
                                    "0": "1005",
                                    "1": "50000",
                                    "2": "46909"
                                },
                                {
                                    "0": "1012",
                                    "1": "49000",
                                    "2": "46909"
                                },
                                {
                                    "0": "1007",
                                    "1": "41000",
                                    "2": "46909"
                                },
                                {
                                    "0": "1008",
                                    "1": "48000",
                                    "2": "46909"
                                },
                                {
                                    "0": "1009",
                                    "1": "42000",
                                    "2": "46909"
                                },
                                {
                                    "0": "1010",
                                    "1": "52000",
                                    "2": "46909"
                                },
                                {
                                    "0": "1011",
                                    "1": "43000",
                                    "2": "46909"
                                }
                            ]
                        },
                        "text/html": "<table><tr><th>EmployeeID</th><th>Salary</th><th>Average_Salary</th></tr><tr><td>1001</td><td>45000</td><td>46909</td></tr><tr><td>1002</td><td>36000</td><td>46909</td></tr><tr><td>1003</td><td>63000</td><td>46909</td></tr><tr><td>1004</td><td>47000</td><td>46909</td></tr><tr><td>1005</td><td>50000</td><td>46909</td></tr><tr><td>1012</td><td>49000</td><td>46909</td></tr><tr><td>1007</td><td>41000</td><td>46909</td></tr><tr><td>1008</td><td>48000</td><td>46909</td></tr><tr><td>1009</td><td>42000</td><td>46909</td></tr><tr><td>1010</td><td>52000</td><td>46909</td></tr><tr><td>1011</td><td>43000</td><td>46909</td></tr></table>"
                    },
                    "metadata": {}
                }
            ],
            "execution_count": 101
        },
        {
            "cell_type": "markdown",
            "source": [
                "## **/\\*\\*\\*\\*\\*\\*\\*\\*\\*\\*\\* How to do with PARTITION BY  \\*\\*\\*\\*\\*\\*\\*\\*\\*\\*\\*\\*\\*\\*/**"
            ],
            "metadata": {
                "azdata_cell_guid": "f5d6777e-af54-4d72-bdb4-722731053db1"
            }
        },
        {
            "cell_type": "code",
            "source": [
                "SELECT EmployeeID,Salary,AVG(Salary) OVER() AS Average_Salary\r\n",
                "FROM EmployeeSalary"
            ],
            "metadata": {
                "azdata_cell_guid": "7266427f-8cf9-4cc8-87c1-c5083a874e8f"
            },
            "outputs": [
                {
                    "output_type": "display_data",
                    "data": {
                        "text/html": "(11 rows affected)"
                    },
                    "metadata": {}
                },
                {
                    "output_type": "display_data",
                    "data": {
                        "text/html": "Total execution time: 00:00:00.111"
                    },
                    "metadata": {}
                },
                {
                    "output_type": "execute_result",
                    "execution_count": 102,
                    "data": {
                        "application/vnd.dataresource+json": {
                            "schema": {
                                "fields": [
                                    {
                                        "name": "EmployeeID"
                                    },
                                    {
                                        "name": "Salary"
                                    },
                                    {
                                        "name": "Average_Salary"
                                    }
                                ]
                            },
                            "data": [
                                {
                                    "0": "1001",
                                    "1": "45000",
                                    "2": "46909"
                                },
                                {
                                    "0": "1002",
                                    "1": "36000",
                                    "2": "46909"
                                },
                                {
                                    "0": "1003",
                                    "1": "63000",
                                    "2": "46909"
                                },
                                {
                                    "0": "1004",
                                    "1": "47000",
                                    "2": "46909"
                                },
                                {
                                    "0": "1005",
                                    "1": "50000",
                                    "2": "46909"
                                },
                                {
                                    "0": "1012",
                                    "1": "49000",
                                    "2": "46909"
                                },
                                {
                                    "0": "1007",
                                    "1": "41000",
                                    "2": "46909"
                                },
                                {
                                    "0": "1008",
                                    "1": "48000",
                                    "2": "46909"
                                },
                                {
                                    "0": "1009",
                                    "1": "42000",
                                    "2": "46909"
                                },
                                {
                                    "0": "1010",
                                    "1": "52000",
                                    "2": "46909"
                                },
                                {
                                    "0": "1011",
                                    "1": "43000",
                                    "2": "46909"
                                }
                            ]
                        },
                        "text/html": "<table><tr><th>EmployeeID</th><th>Salary</th><th>Average_Salary</th></tr><tr><td>1001</td><td>45000</td><td>46909</td></tr><tr><td>1002</td><td>36000</td><td>46909</td></tr><tr><td>1003</td><td>63000</td><td>46909</td></tr><tr><td>1004</td><td>47000</td><td>46909</td></tr><tr><td>1005</td><td>50000</td><td>46909</td></tr><tr><td>1012</td><td>49000</td><td>46909</td></tr><tr><td>1007</td><td>41000</td><td>46909</td></tr><tr><td>1008</td><td>48000</td><td>46909</td></tr><tr><td>1009</td><td>42000</td><td>46909</td></tr><tr><td>1010</td><td>52000</td><td>46909</td></tr><tr><td>1011</td><td>43000</td><td>46909</td></tr></table>"
                    },
                    "metadata": {}
                }
            ],
            "execution_count": 102
        },
        {
            "cell_type": "markdown",
            "source": [
                "## **/\\*\\*\\*\\*\\*\\*\\*\\*\\*\\*\\*\\*\\*\\* Why GROUP BY doesn't work \\*\\*\\*\\*\\*\\*\\*\\*\\*\\*\\*\\*/**"
            ],
            "metadata": {
                "azdata_cell_guid": "e34be4be-6a5e-4fb9-a0e4-0134f48a5ece"
            }
        },
        {
            "cell_type": "code",
            "source": [
                "Select EmployeeID, Salary, AVG(Salary) as Average_Salary\r\n",
                "From EmployeeSalary\r\n",
                "Group By EmployeeID, Salary\r\n",
                "order by EmployeeID"
            ],
            "metadata": {
                "azdata_cell_guid": "499f230d-c590-47f3-9548-0a8d94ef869a"
            },
            "outputs": [
                {
                    "output_type": "display_data",
                    "data": {
                        "text/html": "(11 rows affected)"
                    },
                    "metadata": {}
                },
                {
                    "output_type": "display_data",
                    "data": {
                        "text/html": "Total execution time: 00:00:00.060"
                    },
                    "metadata": {}
                },
                {
                    "output_type": "execute_result",
                    "execution_count": 103,
                    "data": {
                        "application/vnd.dataresource+json": {
                            "schema": {
                                "fields": [
                                    {
                                        "name": "EmployeeID"
                                    },
                                    {
                                        "name": "Salary"
                                    },
                                    {
                                        "name": "Average_Salary"
                                    }
                                ]
                            },
                            "data": [
                                {
                                    "0": "1001",
                                    "1": "45000",
                                    "2": "45000"
                                },
                                {
                                    "0": "1002",
                                    "1": "36000",
                                    "2": "36000"
                                },
                                {
                                    "0": "1003",
                                    "1": "63000",
                                    "2": "63000"
                                },
                                {
                                    "0": "1004",
                                    "1": "47000",
                                    "2": "47000"
                                },
                                {
                                    "0": "1005",
                                    "1": "50000",
                                    "2": "50000"
                                },
                                {
                                    "0": "1007",
                                    "1": "41000",
                                    "2": "41000"
                                },
                                {
                                    "0": "1008",
                                    "1": "48000",
                                    "2": "48000"
                                },
                                {
                                    "0": "1009",
                                    "1": "42000",
                                    "2": "42000"
                                },
                                {
                                    "0": "1010",
                                    "1": "52000",
                                    "2": "52000"
                                },
                                {
                                    "0": "1011",
                                    "1": "43000",
                                    "2": "43000"
                                },
                                {
                                    "0": "1012",
                                    "1": "49000",
                                    "2": "49000"
                                }
                            ]
                        },
                        "text/html": "<table><tr><th>EmployeeID</th><th>Salary</th><th>Average_Salary</th></tr><tr><td>1001</td><td>45000</td><td>45000</td></tr><tr><td>1002</td><td>36000</td><td>36000</td></tr><tr><td>1003</td><td>63000</td><td>63000</td></tr><tr><td>1004</td><td>47000</td><td>47000</td></tr><tr><td>1005</td><td>50000</td><td>50000</td></tr><tr><td>1007</td><td>41000</td><td>41000</td></tr><tr><td>1008</td><td>48000</td><td>48000</td></tr><tr><td>1009</td><td>42000</td><td>42000</td></tr><tr><td>1010</td><td>52000</td><td>52000</td></tr><tr><td>1011</td><td>43000</td><td>43000</td></tr><tr><td>1012</td><td>49000</td><td>49000</td></tr></table>"
                    },
                    "metadata": {}
                }
            ],
            "execution_count": 103
        },
        {
            "cell_type": "markdown",
            "source": [
                "## **/\\*\\*\\*\\*\\*\\*\\*\\*\\*\\*\\* Subquery in FROM Statement \\*\\*\\*\\*\\*\\*\\*\\*\\*\\*\\*/**"
            ],
            "metadata": {
                "azdata_cell_guid": "31ba684e-96f1-4eac-bc8e-3da8545a854f"
            }
        },
        {
            "cell_type": "code",
            "source": [
                "Select temp.EmployeeID,Average_Salary\r\n",
                "From \r\n",
                "\t(Select EmployeeID, Salary, AVG(Salary) over () AS Average_Salary\r\n",
                "\t From EmployeeSalary) temp\r\n",
                "ORDER BY temp.EmployeeID"
            ],
            "metadata": {
                "azdata_cell_guid": "d07afca2-b8d4-47bd-88c5-9ee7e7731073"
            },
            "outputs": [
                {
                    "output_type": "display_data",
                    "data": {
                        "text/html": "(11 rows affected)"
                    },
                    "metadata": {}
                },
                {
                    "output_type": "display_data",
                    "data": {
                        "text/html": "Total execution time: 00:00:00.046"
                    },
                    "metadata": {}
                },
                {
                    "output_type": "execute_result",
                    "execution_count": 107,
                    "data": {
                        "application/vnd.dataresource+json": {
                            "schema": {
                                "fields": [
                                    {
                                        "name": "EmployeeID"
                                    },
                                    {
                                        "name": "Average_Salary"
                                    }
                                ]
                            },
                            "data": [
                                {
                                    "0": "1001",
                                    "1": "46909"
                                },
                                {
                                    "0": "1002",
                                    "1": "46909"
                                },
                                {
                                    "0": "1003",
                                    "1": "46909"
                                },
                                {
                                    "0": "1004",
                                    "1": "46909"
                                },
                                {
                                    "0": "1005",
                                    "1": "46909"
                                },
                                {
                                    "0": "1007",
                                    "1": "46909"
                                },
                                {
                                    "0": "1008",
                                    "1": "46909"
                                },
                                {
                                    "0": "1009",
                                    "1": "46909"
                                },
                                {
                                    "0": "1010",
                                    "1": "46909"
                                },
                                {
                                    "0": "1011",
                                    "1": "46909"
                                },
                                {
                                    "0": "1012",
                                    "1": "46909"
                                }
                            ]
                        },
                        "text/html": "<table><tr><th>EmployeeID</th><th>Average_Salary</th></tr><tr><td>1001</td><td>46909</td></tr><tr><td>1002</td><td>46909</td></tr><tr><td>1003</td><td>46909</td></tr><tr><td>1004</td><td>46909</td></tr><tr><td>1005</td><td>46909</td></tr><tr><td>1007</td><td>46909</td></tr><tr><td>1008</td><td>46909</td></tr><tr><td>1009</td><td>46909</td></tr><tr><td>1010</td><td>46909</td></tr><tr><td>1011</td><td>46909</td></tr><tr><td>1012</td><td>46909</td></tr></table>"
                    },
                    "metadata": {}
                }
            ],
            "execution_count": 107
        },
        {
            "cell_type": "markdown",
            "source": [
                "## **/\\*\\*\\*\\*\\*\\*\\*\\*\\*\\*\\*\\*\\*\\*\\* Subquery in WHERE Statement \\*\\*\\*\\*\\*\\*\\*\\*\\*\\*\\*\\*\\*\\*\\*/**"
            ],
            "metadata": {
                "azdata_cell_guid": "ae0f836f-3798-4ca3-ad32-730ba7c75e08"
            }
        },
        {
            "cell_type": "code",
            "source": [
                "SELECT EmployeeID,Salary,JobTitle\r\n",
                "FROM EmployeeSalary\r\n",
                "WHERE EmployeeID IN (SELECT EmployeeID \r\n",
                "                    FROM EmployeeDemographics\r\n",
                "                    WHERE Age>30)"
            ],
            "metadata": {
                "azdata_cell_guid": "57ce4cb2-4320-4cec-b362-1188f258c837"
            },
            "outputs": [
                {
                    "output_type": "display_data",
                    "data": {
                        "text/html": "(9 rows affected)"
                    },
                    "metadata": {}
                },
                {
                    "output_type": "display_data",
                    "data": {
                        "text/html": "Total execution time: 00:00:00.343"
                    },
                    "metadata": {}
                },
                {
                    "output_type": "execute_result",
                    "execution_count": 108,
                    "data": {
                        "application/vnd.dataresource+json": {
                            "schema": {
                                "fields": [
                                    {
                                        "name": "EmployeeID"
                                    },
                                    {
                                        "name": "Salary"
                                    },
                                    {
                                        "name": "JobTitle"
                                    }
                                ]
                            },
                            "data": [
                                {
                                    "0": "1001",
                                    "1": "45000",
                                    "2": "Salesman"
                                },
                                {
                                    "0": "1002",
                                    "1": "36000",
                                    "2": "Receptionist"
                                },
                                {
                                    "0": "1004",
                                    "1": "47000",
                                    "2": "Accountant"
                                },
                                {
                                    "0": "1005",
                                    "1": "50000",
                                    "2": "HR"
                                },
                                {
                                    "0": "1012",
                                    "1": "49000",
                                    "2": "Regional Manager"
                                },
                                {
                                    "0": "1007",
                                    "1": "41000",
                                    "2": "Supplier Relations"
                                },
                                {
                                    "0": "1008",
                                    "1": "48000",
                                    "2": "Salesman"
                                },
                                {
                                    "0": "1009",
                                    "1": "42000",
                                    "2": "Accountant"
                                },
                                {
                                    "0": "1010",
                                    "1": "52000",
                                    "2": "Regional Manager"
                                }
                            ]
                        },
                        "text/html": "<table><tr><th>EmployeeID</th><th>Salary</th><th>JobTitle</th></tr><tr><td>1001</td><td>45000</td><td>Salesman</td></tr><tr><td>1002</td><td>36000</td><td>Receptionist</td></tr><tr><td>1004</td><td>47000</td><td>Accountant</td></tr><tr><td>1005</td><td>50000</td><td>HR</td></tr><tr><td>1012</td><td>49000</td><td>Regional Manager</td></tr><tr><td>1007</td><td>41000</td><td>Supplier Relations</td></tr><tr><td>1008</td><td>48000</td><td>Salesman</td></tr><tr><td>1009</td><td>42000</td><td>Accountant</td></tr><tr><td>1010</td><td>52000</td><td>Regional Manager</td></tr></table>"
                    },
                    "metadata": {}
                }
            ],
            "execution_count": 108
        }
    ]
}